{
 "cells": [
  {
   "cell_type": "code",
   "execution_count": null,
   "id": "9da153d7",
   "metadata": {},
   "outputs": [],
   "source": [
    "def route_chosen_probability(ax,\n",
    "                             fig,\n",
    "                             rounds, \n",
    "                             number_of_routes, \n",
    "                             save_dir=None):\n",
    "    \"\"\"\n",
    "    Plot the changes in probabilities of choosing each route over time.    \n",
    "    \"\"\"\n",
    "    \n",
    "    plot_prob_l = [[], [], [], []]\n",
    "\n",
    "    for r in range(1, rounds+1):\n",
    "        df = pd.read_csv(f'Saved_data/Utility_data/Round_{r}.csv')\n",
    "        df['Probabilities'] = df.apply(lambda row: ast.literal_eval(row['Probabilities']), axis=1)\n",
    "        for i in range(number_of_routes):\n",
    "            avg_prob = pd.DataFrame(df['Probabilities'].to_list(), columns=range(number_of_routes))[i].mean()\n",
    "            plot_prob_l[i].append(avg_prob)\n",
    "            \n",
    "    for i in range(number_of_routes):\n",
    "        ax.plot(plot_prob_l[i], label=\"Route \"+str(i))\n",
    "\n",
    "    ax.set_xlabel(\"Round\")\n",
    "    ax.set_ylabel(\"Average probability of choosing the route\")\n",
    "    ax.set_title(\"Changes in the average probability of choosing a route over time\")\n",
    "    plt.legend(bbox_to_anchor=(1, 0.5))\n",
    "    \n",
    "    if save_dir != None:\n",
    "        fig.savefig(save_dir, bbox_inches = 'tight')\n",
    "    \n",
    "    plt.show()"
   ]
  }
 ],
 "metadata": {
  "kernelspec": {
   "display_name": "Python 3",
   "language": "python",
   "name": "python3"
  },
  "language_info": {
   "codemirror_mode": {
    "name": "ipython",
    "version": 3
   },
   "file_extension": ".py",
   "mimetype": "text/x-python",
   "name": "python",
   "nbconvert_exporter": "python",
   "pygments_lexer": "ipython3",
   "version": "3.6.13"
  }
 },
 "nbformat": 4,
 "nbformat_minor": 5
}
