{
 "cells": [
  {
   "cell_type": "code",
   "execution_count": 32,
   "id": "4dc4dca5",
   "metadata": {},
   "outputs": [],
   "source": [
    "import ast\n",
    "import pandas as pd\n",
    "import matplotlib.pyplot as plt\n",
    "import numpy as np"
   ]
  },
  {
   "cell_type": "code",
   "execution_count": 33,
   "id": "8c2276ae",
   "metadata": {},
   "outputs": [],
   "source": [
    "rounds = 50\n",
    "vehicle_limit = 80\n",
    "all_routes = [[0, 1], [2, 3]]"
   ]
  },
  {
   "cell_type": "code",
   "execution_count": 34,
   "id": "745b48aa",
   "metadata": {},
   "outputs": [],
   "source": [
    "record = pd.read_csv(f'Saved_SM/Simulation_records/Round_{rounds}.csv')\n",
    "utility = pd.read_csv(f'Saved_SM/Utility_data/Round_{rounds}.csv')"
   ]
  },
  {
   "cell_type": "code",
   "execution_count": 35,
   "id": "6ad7a1b5",
   "metadata": {},
   "outputs": [
    {
     "data": {
      "text/html": [
       "<div>\n",
       "<style scoped>\n",
       "    .dataframe tbody tr th:only-of-type {\n",
       "        vertical-align: middle;\n",
       "    }\n",
       "\n",
       "    .dataframe tbody tr th {\n",
       "        vertical-align: top;\n",
       "    }\n",
       "\n",
       "    .dataframe thead th {\n",
       "        text-align: right;\n",
       "    }\n",
       "</style>\n",
       "<table border=\"1\" class=\"dataframe\">\n",
       "  <thead>\n",
       "    <tr style=\"text-align: right;\">\n",
       "      <th></th>\n",
       "      <th>Vehicle_label</th>\n",
       "      <th>Road_order</th>\n",
       "      <th>Total_time</th>\n",
       "      <th>Leading_vehicles</th>\n",
       "      <th>Stopped_time</th>\n",
       "      <th>Stop_while_front</th>\n",
       "      <th>Round_number</th>\n",
       "    </tr>\n",
       "  </thead>\n",
       "  <tbody>\n",
       "    <tr>\n",
       "      <th>0</th>\n",
       "      <td>0</td>\n",
       "      <td>[2, 3]</td>\n",
       "      <td>67.75</td>\n",
       "      <td>[-999, -999]</td>\n",
       "      <td>[0, 0]</td>\n",
       "      <td>[0, 0]</td>\n",
       "      <td>1</td>\n",
       "    </tr>\n",
       "    <tr>\n",
       "      <th>1</th>\n",
       "      <td>1</td>\n",
       "      <td>[2, 3]</td>\n",
       "      <td>70.85</td>\n",
       "      <td>[0, 0]</td>\n",
       "      <td>[0, 0]</td>\n",
       "      <td>[0, 0]</td>\n",
       "      <td>1</td>\n",
       "    </tr>\n",
       "    <tr>\n",
       "      <th>2</th>\n",
       "      <td>2</td>\n",
       "      <td>[2, 3]</td>\n",
       "      <td>72.70</td>\n",
       "      <td>[1, 1]</td>\n",
       "      <td>[0, 0]</td>\n",
       "      <td>[0, 0]</td>\n",
       "      <td>1</td>\n",
       "    </tr>\n",
       "    <tr>\n",
       "      <th>3</th>\n",
       "      <td>3</td>\n",
       "      <td>[2, 3]</td>\n",
       "      <td>74.30</td>\n",
       "      <td>[2, 2]</td>\n",
       "      <td>[0, 0]</td>\n",
       "      <td>[0, 0]</td>\n",
       "      <td>1</td>\n",
       "    </tr>\n",
       "    <tr>\n",
       "      <th>4</th>\n",
       "      <td>4</td>\n",
       "      <td>[2, 3]</td>\n",
       "      <td>75.70</td>\n",
       "      <td>[3, 3]</td>\n",
       "      <td>[0, 0]</td>\n",
       "      <td>[0, 0]</td>\n",
       "      <td>1</td>\n",
       "    </tr>\n",
       "    <tr>\n",
       "      <th>...</th>\n",
       "      <td>...</td>\n",
       "      <td>...</td>\n",
       "      <td>...</td>\n",
       "      <td>...</td>\n",
       "      <td>...</td>\n",
       "      <td>...</td>\n",
       "      <td>...</td>\n",
       "    </tr>\n",
       "    <tr>\n",
       "      <th>3995</th>\n",
       "      <td>75</td>\n",
       "      <td>[2, 3]</td>\n",
       "      <td>122.90</td>\n",
       "      <td>[72, 72]</td>\n",
       "      <td>[0, 0]</td>\n",
       "      <td>[0, 0]</td>\n",
       "      <td>50</td>\n",
       "    </tr>\n",
       "    <tr>\n",
       "      <th>3996</th>\n",
       "      <td>76</td>\n",
       "      <td>[0, 1]</td>\n",
       "      <td>114.65</td>\n",
       "      <td>[74, 74]</td>\n",
       "      <td>[0, 0]</td>\n",
       "      <td>[0, 0]</td>\n",
       "      <td>50</td>\n",
       "    </tr>\n",
       "    <tr>\n",
       "      <th>3997</th>\n",
       "      <td>77</td>\n",
       "      <td>[0, 1]</td>\n",
       "      <td>115.70</td>\n",
       "      <td>[76, 76]</td>\n",
       "      <td>[0, 0]</td>\n",
       "      <td>[0, 0]</td>\n",
       "      <td>50</td>\n",
       "    </tr>\n",
       "    <tr>\n",
       "      <th>3998</th>\n",
       "      <td>78</td>\n",
       "      <td>[0, 1]</td>\n",
       "      <td>116.75</td>\n",
       "      <td>[77, 77]</td>\n",
       "      <td>[0, 0]</td>\n",
       "      <td>[0, 0]</td>\n",
       "      <td>50</td>\n",
       "    </tr>\n",
       "    <tr>\n",
       "      <th>3999</th>\n",
       "      <td>79</td>\n",
       "      <td>[0, 1]</td>\n",
       "      <td>117.80</td>\n",
       "      <td>[78, 78]</td>\n",
       "      <td>[0, 0]</td>\n",
       "      <td>[0, 0]</td>\n",
       "      <td>50</td>\n",
       "    </tr>\n",
       "  </tbody>\n",
       "</table>\n",
       "<p>4000 rows × 7 columns</p>\n",
       "</div>"
      ],
      "text/plain": [
       "      Vehicle_label Road_order  Total_time Leading_vehicles Stopped_time  \\\n",
       "0                 0     [2, 3]       67.75     [-999, -999]       [0, 0]   \n",
       "1                 1     [2, 3]       70.85           [0, 0]       [0, 0]   \n",
       "2                 2     [2, 3]       72.70           [1, 1]       [0, 0]   \n",
       "3                 3     [2, 3]       74.30           [2, 2]       [0, 0]   \n",
       "4                 4     [2, 3]       75.70           [3, 3]       [0, 0]   \n",
       "...             ...        ...         ...              ...          ...   \n",
       "3995             75     [2, 3]      122.90         [72, 72]       [0, 0]   \n",
       "3996             76     [0, 1]      114.65         [74, 74]       [0, 0]   \n",
       "3997             77     [0, 1]      115.70         [76, 76]       [0, 0]   \n",
       "3998             78     [0, 1]      116.75         [77, 77]       [0, 0]   \n",
       "3999             79     [0, 1]      117.80         [78, 78]       [0, 0]   \n",
       "\n",
       "     Stop_while_front  Round_number  \n",
       "0              [0, 0]             1  \n",
       "1              [0, 0]             1  \n",
       "2              [0, 0]             1  \n",
       "3              [0, 0]             1  \n",
       "4              [0, 0]             1  \n",
       "...               ...           ...  \n",
       "3995           [0, 0]            50  \n",
       "3996           [0, 0]            50  \n",
       "3997           [0, 0]            50  \n",
       "3998           [0, 0]            50  \n",
       "3999           [0, 0]            50  \n",
       "\n",
       "[4000 rows x 7 columns]"
      ]
     },
     "execution_count": 35,
     "metadata": {},
     "output_type": "execute_result"
    }
   ],
   "source": [
    "record"
   ]
  },
  {
   "cell_type": "code",
   "execution_count": 36,
   "id": "bd4ee211",
   "metadata": {},
   "outputs": [],
   "source": [
    "record['Road_order'] = record.apply(lambda row: ast.literal_eval(row['Road_order']), axis=1)\n",
    "record[\"Road_order_label\"] = record.apply(lambda row: all_routes.index(row.Road_order), axis=1)"
   ]
  },
  {
   "cell_type": "code",
   "execution_count": 37,
   "id": "76168ce1",
   "metadata": {},
   "outputs": [],
   "source": [
    "# time_df = pd.DataFrame(utility['Routes_taken'].to_list(), columns=range(rounds))\n",
    "# print(route_df.shape)\n",
    "# display(route_df.head(10))"
   ]
  },
  {
   "cell_type": "code",
   "execution_count": 38,
   "id": "a8fdbe60",
   "metadata": {},
   "outputs": [],
   "source": [
    "time_df = pd.pivot_table(record, values='Total_time', \n",
    "                         index=['Road_order_label', 'Round_number'], \n",
    "                         aggfunc=np.mean).reset_index(drop=False)\n",
    "# time_df.loc[time_df.Road_order_label==1].sort_values('Round_number').Total_time.values"
   ]
  },
  {
   "cell_type": "code",
   "execution_count": 39,
   "id": "78a5419b",
   "metadata": {},
   "outputs": [
    {
     "data": {
      "text/plain": [
       "<matplotlib.legend.Legend at 0x15ded5b4908>"
      ]
     },
     "execution_count": 39,
     "metadata": {},
     "output_type": "execute_result"
    },
    {
     "data": {
      "image/png": "[encoded data removed]",
      "text/plain": [
       "<Figure size 720x432 with 1 Axes>"
      ]
     },
     "metadata": {
      "needs_background": "light"
     },
     "output_type": "display_data"
    }
   ],
   "source": [
    "# Changes in average time needed to go through each route over time\n",
    "plot_route_time = [[], [], [], []]\n",
    "\n",
    "for i in range(2):\n",
    "    times = time_df.loc[time_df.Road_order_label==i].sort_values('Round_number').Total_time.values\n",
    "    plot_route_time[i]=times\n",
    "        \n",
    "fig, ax = plt.subplots(figsize=(10, 6))\n",
    "\n",
    "for i in range(4):\n",
    "    ax.plot(plot_route_time[i], label=str(i), alpha=0.5)\n",
    "    \n",
    "plt.legend()"
   ]
  },
  {
   "cell_type": "code",
   "execution_count": 40,
   "id": "6ac8e9b3",
   "metadata": {},
   "outputs": [
    {
     "data": {
      "text/plain": [
       "[<matplotlib.lines.Line2D at 0x15dee78ddd8>]"
      ]
     },
     "execution_count": 40,
     "metadata": {},
     "output_type": "execute_result"
    },
    {
     "data": {
      "image/png": "[encoded data removed]",
      "text/plain": [
       "<Figure size 432x288 with 1 Axes>"
      ]
     },
     "metadata": {
      "needs_background": "light"
     },
     "output_type": "display_data"
    }
   ],
   "source": [
    "time_df2 = pd.pivot_table(record, values='Total_time', index='Round_number', aggfunc=np.sum).reset_index(drop=False)\n",
    "plt.plot(time_df2.Round_number, time_df2.Total_time)"
   ]
  },
  {
   "cell_type": "code",
   "execution_count": 55,
   "id": "0be594c5",
   "metadata": {},
   "outputs": [
    {
     "data": {
      "text/plain": [
       "7611.535999999763"
      ]
     },
     "execution_count": 55,
     "metadata": {},
     "output_type": "execute_result"
    }
   ],
   "source": [
    "time_df2.Total_time.mean()"
   ]
  },
  {
   "cell_type": "code",
   "execution_count": 42,
   "id": "d6335651",
   "metadata": {},
   "outputs": [],
   "source": [
    "# utility['Probabilities'] = utility.apply(lambda row: ast.literal_eval(row['Probabilities']), axis=1)\n",
    "# prob_df = pd.DataFrame(utility['Probabilities'].to_list(), columns=range(4))\n",
    "# print(prob_df.shape)\n",
    "# display(prob_df.head(10))"
   ]
  },
  {
   "cell_type": "code",
   "execution_count": 43,
   "id": "dfbe912f",
   "metadata": {},
   "outputs": [
    {
     "data": {
      "text/plain": [
       "150"
      ]
     },
     "execution_count": 43,
     "metadata": {},
     "output_type": "execute_result"
    }
   ],
   "source": [
    "len(utility.Routes_taken[0])"
   ]
  },
  {
   "cell_type": "code",
   "execution_count": 44,
   "id": "f3cde3f1",
   "metadata": {},
   "outputs": [
    {
     "name": "stdout",
     "output_type": "stream",
     "text": [
      "(80, 50)\n"
     ]
    },
    {
     "data": {
      "text/html": [
       "<div>\n",
       "<style scoped>\n",
       "    .dataframe tbody tr th:only-of-type {\n",
       "        vertical-align: middle;\n",
       "    }\n",
       "\n",
       "    .dataframe tbody tr th {\n",
       "        vertical-align: top;\n",
       "    }\n",
       "\n",
       "    .dataframe thead th {\n",
       "        text-align: right;\n",
       "    }\n",
       "</style>\n",
       "<table border=\"1\" class=\"dataframe\">\n",
       "  <thead>\n",
       "    <tr style=\"text-align: right;\">\n",
       "      <th></th>\n",
       "      <th>0</th>\n",
       "      <th>1</th>\n",
       "      <th>2</th>\n",
       "      <th>3</th>\n",
       "      <th>4</th>\n",
       "      <th>5</th>\n",
       "      <th>6</th>\n",
       "      <th>7</th>\n",
       "      <th>8</th>\n",
       "      <th>9</th>\n",
       "      <th>...</th>\n",
       "      <th>40</th>\n",
       "      <th>41</th>\n",
       "      <th>42</th>\n",
       "      <th>43</th>\n",
       "      <th>44</th>\n",
       "      <th>45</th>\n",
       "      <th>46</th>\n",
       "      <th>47</th>\n",
       "      <th>48</th>\n",
       "      <th>49</th>\n",
       "    </tr>\n",
       "  </thead>\n",
       "  <tbody>\n",
       "    <tr>\n",
       "      <th>0</th>\n",
       "      <td>1</td>\n",
       "      <td>0</td>\n",
       "      <td>1</td>\n",
       "      <td>0</td>\n",
       "      <td>0</td>\n",
       "      <td>1</td>\n",
       "      <td>1</td>\n",
       "      <td>0</td>\n",
       "      <td>1</td>\n",
       "      <td>0</td>\n",
       "      <td>...</td>\n",
       "      <td>0</td>\n",
       "      <td>0</td>\n",
       "      <td>0</td>\n",
       "      <td>0</td>\n",
       "      <td>0</td>\n",
       "      <td>1</td>\n",
       "      <td>0</td>\n",
       "      <td>1</td>\n",
       "      <td>1</td>\n",
       "      <td>1</td>\n",
       "    </tr>\n",
       "    <tr>\n",
       "      <th>1</th>\n",
       "      <td>1</td>\n",
       "      <td>0</td>\n",
       "      <td>0</td>\n",
       "      <td>1</td>\n",
       "      <td>0</td>\n",
       "      <td>0</td>\n",
       "      <td>1</td>\n",
       "      <td>0</td>\n",
       "      <td>1</td>\n",
       "      <td>1</td>\n",
       "      <td>...</td>\n",
       "      <td>0</td>\n",
       "      <td>0</td>\n",
       "      <td>1</td>\n",
       "      <td>1</td>\n",
       "      <td>0</td>\n",
       "      <td>1</td>\n",
       "      <td>0</td>\n",
       "      <td>0</td>\n",
       "      <td>0</td>\n",
       "      <td>0</td>\n",
       "    </tr>\n",
       "    <tr>\n",
       "      <th>2</th>\n",
       "      <td>1</td>\n",
       "      <td>0</td>\n",
       "      <td>1</td>\n",
       "      <td>1</td>\n",
       "      <td>0</td>\n",
       "      <td>1</td>\n",
       "      <td>0</td>\n",
       "      <td>0</td>\n",
       "      <td>1</td>\n",
       "      <td>0</td>\n",
       "      <td>...</td>\n",
       "      <td>0</td>\n",
       "      <td>1</td>\n",
       "      <td>0</td>\n",
       "      <td>1</td>\n",
       "      <td>1</td>\n",
       "      <td>1</td>\n",
       "      <td>1</td>\n",
       "      <td>0</td>\n",
       "      <td>0</td>\n",
       "      <td>0</td>\n",
       "    </tr>\n",
       "    <tr>\n",
       "      <th>3</th>\n",
       "      <td>1</td>\n",
       "      <td>0</td>\n",
       "      <td>0</td>\n",
       "      <td>0</td>\n",
       "      <td>1</td>\n",
       "      <td>0</td>\n",
       "      <td>1</td>\n",
       "      <td>1</td>\n",
       "      <td>0</td>\n",
       "      <td>0</td>\n",
       "      <td>...</td>\n",
       "      <td>0</td>\n",
       "      <td>0</td>\n",
       "      <td>0</td>\n",
       "      <td>0</td>\n",
       "      <td>1</td>\n",
       "      <td>1</td>\n",
       "      <td>0</td>\n",
       "      <td>0</td>\n",
       "      <td>0</td>\n",
       "      <td>0</td>\n",
       "    </tr>\n",
       "    <tr>\n",
       "      <th>4</th>\n",
       "      <td>1</td>\n",
       "      <td>0</td>\n",
       "      <td>0</td>\n",
       "      <td>0</td>\n",
       "      <td>0</td>\n",
       "      <td>1</td>\n",
       "      <td>1</td>\n",
       "      <td>1</td>\n",
       "      <td>1</td>\n",
       "      <td>0</td>\n",
       "      <td>...</td>\n",
       "      <td>0</td>\n",
       "      <td>1</td>\n",
       "      <td>0</td>\n",
       "      <td>0</td>\n",
       "      <td>0</td>\n",
       "      <td>0</td>\n",
       "      <td>0</td>\n",
       "      <td>1</td>\n",
       "      <td>0</td>\n",
       "      <td>1</td>\n",
       "    </tr>\n",
       "    <tr>\n",
       "      <th>5</th>\n",
       "      <td>0</td>\n",
       "      <td>1</td>\n",
       "      <td>1</td>\n",
       "      <td>1</td>\n",
       "      <td>0</td>\n",
       "      <td>0</td>\n",
       "      <td>0</td>\n",
       "      <td>0</td>\n",
       "      <td>0</td>\n",
       "      <td>0</td>\n",
       "      <td>...</td>\n",
       "      <td>0</td>\n",
       "      <td>1</td>\n",
       "      <td>1</td>\n",
       "      <td>1</td>\n",
       "      <td>1</td>\n",
       "      <td>1</td>\n",
       "      <td>1</td>\n",
       "      <td>0</td>\n",
       "      <td>1</td>\n",
       "      <td>1</td>\n",
       "    </tr>\n",
       "    <tr>\n",
       "      <th>6</th>\n",
       "      <td>1</td>\n",
       "      <td>0</td>\n",
       "      <td>1</td>\n",
       "      <td>1</td>\n",
       "      <td>1</td>\n",
       "      <td>1</td>\n",
       "      <td>0</td>\n",
       "      <td>0</td>\n",
       "      <td>0</td>\n",
       "      <td>0</td>\n",
       "      <td>...</td>\n",
       "      <td>0</td>\n",
       "      <td>0</td>\n",
       "      <td>0</td>\n",
       "      <td>0</td>\n",
       "      <td>0</td>\n",
       "      <td>0</td>\n",
       "      <td>1</td>\n",
       "      <td>0</td>\n",
       "      <td>0</td>\n",
       "      <td>1</td>\n",
       "    </tr>\n",
       "    <tr>\n",
       "      <th>7</th>\n",
       "      <td>0</td>\n",
       "      <td>1</td>\n",
       "      <td>1</td>\n",
       "      <td>0</td>\n",
       "      <td>1</td>\n",
       "      <td>0</td>\n",
       "      <td>1</td>\n",
       "      <td>0</td>\n",
       "      <td>0</td>\n",
       "      <td>0</td>\n",
       "      <td>...</td>\n",
       "      <td>0</td>\n",
       "      <td>1</td>\n",
       "      <td>0</td>\n",
       "      <td>1</td>\n",
       "      <td>0</td>\n",
       "      <td>0</td>\n",
       "      <td>1</td>\n",
       "      <td>0</td>\n",
       "      <td>0</td>\n",
       "      <td>0</td>\n",
       "    </tr>\n",
       "    <tr>\n",
       "      <th>8</th>\n",
       "      <td>0</td>\n",
       "      <td>1</td>\n",
       "      <td>1</td>\n",
       "      <td>0</td>\n",
       "      <td>1</td>\n",
       "      <td>1</td>\n",
       "      <td>0</td>\n",
       "      <td>0</td>\n",
       "      <td>0</td>\n",
       "      <td>1</td>\n",
       "      <td>...</td>\n",
       "      <td>1</td>\n",
       "      <td>0</td>\n",
       "      <td>1</td>\n",
       "      <td>0</td>\n",
       "      <td>0</td>\n",
       "      <td>1</td>\n",
       "      <td>1</td>\n",
       "      <td>0</td>\n",
       "      <td>1</td>\n",
       "      <td>0</td>\n",
       "    </tr>\n",
       "    <tr>\n",
       "      <th>9</th>\n",
       "      <td>1</td>\n",
       "      <td>0</td>\n",
       "      <td>0</td>\n",
       "      <td>1</td>\n",
       "      <td>1</td>\n",
       "      <td>0</td>\n",
       "      <td>0</td>\n",
       "      <td>0</td>\n",
       "      <td>0</td>\n",
       "      <td>1</td>\n",
       "      <td>...</td>\n",
       "      <td>1</td>\n",
       "      <td>1</td>\n",
       "      <td>1</td>\n",
       "      <td>0</td>\n",
       "      <td>1</td>\n",
       "      <td>0</td>\n",
       "      <td>0</td>\n",
       "      <td>0</td>\n",
       "      <td>1</td>\n",
       "      <td>1</td>\n",
       "    </tr>\n",
       "  </tbody>\n",
       "</table>\n",
       "<p>10 rows × 50 columns</p>\n",
       "</div>"
      ],
      "text/plain": [
       "   0   1   2   3   4   5   6   7   8   9   ...  40  41  42  43  44  45  46  \\\n",
       "0   1   0   1   0   0   1   1   0   1   0  ...   0   0   0   0   0   1   0   \n",
       "1   1   0   0   1   0   0   1   0   1   1  ...   0   0   1   1   0   1   0   \n",
       "2   1   0   1   1   0   1   0   0   1   0  ...   0   1   0   1   1   1   1   \n",
       "3   1   0   0   0   1   0   1   1   0   0  ...   0   0   0   0   1   1   0   \n",
       "4   1   0   0   0   0   1   1   1   1   0  ...   0   1   0   0   0   0   0   \n",
       "5   0   1   1   1   0   0   0   0   0   0  ...   0   1   1   1   1   1   1   \n",
       "6   1   0   1   1   1   1   0   0   0   0  ...   0   0   0   0   0   0   1   \n",
       "7   0   1   1   0   1   0   1   0   0   0  ...   0   1   0   1   0   0   1   \n",
       "8   0   1   1   0   1   1   0   0   0   1  ...   1   0   1   0   0   1   1   \n",
       "9   1   0   0   1   1   0   0   0   0   1  ...   1   1   1   0   1   0   0   \n",
       "\n",
       "   47  48  49  \n",
       "0   1   1   1  \n",
       "1   0   0   0  \n",
       "2   0   0   0  \n",
       "3   0   0   0  \n",
       "4   1   0   1  \n",
       "5   0   1   1  \n",
       "6   0   0   1  \n",
       "7   0   0   0  \n",
       "8   0   1   0  \n",
       "9   0   1   1  \n",
       "\n",
       "[10 rows x 50 columns]"
      ]
     },
     "metadata": {},
     "output_type": "display_data"
    }
   ],
   "source": [
    "utility['Routes_taken'] = utility.apply(lambda row: ast.literal_eval(row['Routes_taken']), axis=1)\n",
    "route_df = pd.DataFrame(utility['Routes_taken'].to_list(), columns=range(rounds))\n",
    "print(route_df.shape)\n",
    "display(route_df.head(10))"
   ]
  },
  {
   "cell_type": "code",
   "execution_count": 45,
   "id": "719fdf00",
   "metadata": {},
   "outputs": [],
   "source": [
    "# for r in range(1, rounds+1):\n",
    "#     df = pd.read_csv(f'Saved_SM/Utility_data/Round_{r}.csv')\n",
    "#     df['Routes_taken'] = df.apply(lambda row: ast.literal_eval(row['Routes_taken'])[1:], axis=1)\n",
    "#     df.to_csv(f'Saved_SM/Utility_data/Round_{r}.csv')"
   ]
  },
  {
   "cell_type": "code",
   "execution_count": 46,
   "id": "61ca2bbb",
   "metadata": {},
   "outputs": [
    {
     "data": {
      "text/plain": [
       "<matplotlib.legend.Legend at 0x15dee68eeb8>"
      ]
     },
     "execution_count": 46,
     "metadata": {},
     "output_type": "execute_result"
    },
    {
     "data": {
      "image/png": "[encoded data removed]",
      "text/plain": [
       "<Figure size 720x432 with 1 Axes>"
      ]
     },
     "metadata": {
      "needs_background": "light"
     },
     "output_type": "display_data"
    }
   ],
   "source": [
    "# Changes in number of vehicles that took the route over time\n",
    "plot_route_l = [[], [], [], []]\n",
    "\n",
    "for i in range(2):\n",
    "    for j in range(rounds):\n",
    "        plot_route_l[i].append(len(route_df.loc[route_df[j]==i]))\n",
    "        \n",
    "fig, ax = plt.subplots(figsize=(10, 6))\n",
    "\n",
    "for i in range(2):\n",
    "    ax.plot(plot_route_l[i], label=str(i), alpha=0.5)\n",
    "    \n",
    "plt.legend()"
   ]
  },
  {
   "cell_type": "code",
   "execution_count": 47,
   "id": "5d28e882",
   "metadata": {},
   "outputs": [
    {
     "data": {
      "text/plain": [
       "<matplotlib.legend.Legend at 0x15dee70fe10>"
      ]
     },
     "execution_count": 47,
     "metadata": {},
     "output_type": "execute_result"
    },
    {
     "data": {
      "image/png": "[encoded data removed]",
      "text/plain": [
       "<Figure size 720x432 with 1 Axes>"
      ]
     },
     "metadata": {
      "needs_background": "light"
     },
     "output_type": "display_data"
    }
   ],
   "source": [
    "# Changes in vehicles' probabilities of selecting each route over time\n",
    "plot_prob_l = [[], [], [], []]\n",
    "\n",
    "for r in range(1, rounds+1):\n",
    "    df = pd.read_csv(f'Saved_SM/Utility_data/Round_{r}.csv')\n",
    "    df['Probabilities'] = df.apply(lambda row: ast.literal_eval(row['Probabilities']), axis=1)\n",
    "    for i in range(2):\n",
    "        avg_prob = pd.DataFrame(df['Probabilities'].to_list(), columns=range(2))[i].mean()\n",
    "        plot_prob_l[i].append(avg_prob)\n",
    "        \n",
    "        \n",
    "fig, ax = plt.subplots(figsize=(10, 6))\n",
    "\n",
    "for i in range(2):\n",
    "    ax.plot(plot_prob_l[i], label=str(i), alpha=0.5)\n",
    "    \n",
    "plt.legend()"
   ]
  },
  {
   "cell_type": "code",
   "execution_count": 48,
   "id": "8e825d03",
   "metadata": {},
   "outputs": [
    {
     "data": {
      "text/html": [
       "<div>\n",
       "<style scoped>\n",
       "    .dataframe tbody tr th:only-of-type {\n",
       "        vertical-align: middle;\n",
       "    }\n",
       "\n",
       "    .dataframe tbody tr th {\n",
       "        vertical-align: top;\n",
       "    }\n",
       "\n",
       "    .dataframe thead th {\n",
       "        text-align: right;\n",
       "    }\n",
       "</style>\n",
       "<table border=\"1\" class=\"dataframe\">\n",
       "  <thead>\n",
       "    <tr style=\"text-align: right;\">\n",
       "      <th></th>\n",
       "      <th>Unnamed: 0</th>\n",
       "      <th>Vehicle_label</th>\n",
       "      <th>Utilities</th>\n",
       "      <th>Probabilities</th>\n",
       "      <th>Routes_taken</th>\n",
       "      <th>Gamma</th>\n",
       "      <th>Eta</th>\n",
       "    </tr>\n",
       "  </thead>\n",
       "  <tbody>\n",
       "    <tr>\n",
       "      <th>0</th>\n",
       "      <td>0</td>\n",
       "      <td>0</td>\n",
       "      <td>[-4.727356330843291, -4.733297385284927]</td>\n",
       "      <td>[0.5014852592417532, 0.4985147407582467]</td>\n",
       "      <td>[1, 0, 1, 0, 0, 1, 1, 0, 1, 0, 0, 1, 0, 1, 1, ...</td>\n",
       "      <td>1.221444</td>\n",
       "      <td>1.031086</td>\n",
       "    </tr>\n",
       "    <tr>\n",
       "      <th>1</th>\n",
       "      <td>1</td>\n",
       "      <td>1</td>\n",
       "      <td>[-4.475110741947691, -4.4877075436058895]</td>\n",
       "      <td>[0.5031491587724379, 0.49685084122756207]</td>\n",
       "      <td>[1, 0, 0, 1, 0, 0, 1, 0, 1, 1, 1, 0, 1, 0, 1, ...</td>\n",
       "      <td>1.005148</td>\n",
       "      <td>1.026035</td>\n",
       "    </tr>\n",
       "    <tr>\n",
       "      <th>2</th>\n",
       "      <td>2</td>\n",
       "      <td>2</td>\n",
       "      <td>[-4.062563941239126, -4.076308684334343]</td>\n",
       "      <td>[0.5034361316783916, 0.49656386832160837]</td>\n",
       "      <td>[1, 0, 1, 1, 0, 1, 0, 0, 1, 0, 1, 0, 0, 1, 0, ...</td>\n",
       "      <td>1.119700</td>\n",
       "      <td>0.967461</td>\n",
       "    </tr>\n",
       "    <tr>\n",
       "      <th>3</th>\n",
       "      <td>3</td>\n",
       "      <td>3</td>\n",
       "      <td>[-5.285052426361108, -5.313558046260541]</td>\n",
       "      <td>[0.5071259224552748, 0.4928740775447251]</td>\n",
       "      <td>[1, 0, 0, 0, 1, 0, 1, 1, 0, 0, 1, 0, 1, 1, 0, ...</td>\n",
       "      <td>0.906961</td>\n",
       "      <td>1.110598</td>\n",
       "    </tr>\n",
       "    <tr>\n",
       "      <th>4</th>\n",
       "      <td>4</td>\n",
       "      <td>4</td>\n",
       "      <td>[-4.887125943393305, -4.918317347253559]</td>\n",
       "      <td>[0.5077972188134109, 0.49220278118658917]</td>\n",
       "      <td>[1, 0, 0, 0, 0, 1, 1, 1, 1, 0, 0, 0, 0, 1, 0, ...</td>\n",
       "      <td>1.180157</td>\n",
       "      <td>1.043941</td>\n",
       "    </tr>\n",
       "    <tr>\n",
       "      <th>...</th>\n",
       "      <td>...</td>\n",
       "      <td>...</td>\n",
       "      <td>...</td>\n",
       "      <td>...</td>\n",
       "      <td>...</td>\n",
       "      <td>...</td>\n",
       "      <td>...</td>\n",
       "    </tr>\n",
       "    <tr>\n",
       "      <th>75</th>\n",
       "      <td>75</td>\n",
       "      <td>75</td>\n",
       "      <td>[-3.010101758108122, -3.098948671023112]</td>\n",
       "      <td>[0.5221971285565126, 0.47780287144348743]</td>\n",
       "      <td>[1, 0, 0, 1, 1, 1, 0, 1, 0, 0, 1, 1, 0, 1, 0, ...</td>\n",
       "      <td>1.110890</td>\n",
       "      <td>0.787496</td>\n",
       "    </tr>\n",
       "    <tr>\n",
       "      <th>76</th>\n",
       "      <td>76</td>\n",
       "      <td>76</td>\n",
       "      <td>[-2.8716707696602963, -2.9536030937250306]</td>\n",
       "      <td>[0.520471630286901, 0.479528369713099]</td>\n",
       "      <td>[1, 0, 1, 0, 1, 0, 1, 0, 0, 1, 0, 0, 0, 0, 1, ...</td>\n",
       "      <td>1.009792</td>\n",
       "      <td>0.770654</td>\n",
       "    </tr>\n",
       "    <tr>\n",
       "      <th>77</th>\n",
       "      <td>77</td>\n",
       "      <td>77</td>\n",
       "      <td>[-2.4122747126864996, -2.476909640636905]</td>\n",
       "      <td>[0.5161531088440005, 0.4838468911559995]</td>\n",
       "      <td>[1, 0, 1, 0, 0, 1, 0, 1, 0, 0, 0, 1, 0, 1, 0, ...</td>\n",
       "      <td>0.766593</td>\n",
       "      <td>0.691094</td>\n",
       "    </tr>\n",
       "    <tr>\n",
       "      <th>78</th>\n",
       "      <td>78</td>\n",
       "      <td>78</td>\n",
       "      <td>[-2.891759561979051, -2.980765731273093]</td>\n",
       "      <td>[0.5222368640431142, 0.4777631359568858]</td>\n",
       "      <td>[1, 0, 1, 1, 1, 0, 0, 0, 1, 0, 1, 0, 0, 1, 1, ...</td>\n",
       "      <td>1.005447</td>\n",
       "      <td>0.772958</td>\n",
       "    </tr>\n",
       "    <tr>\n",
       "      <th>79</th>\n",
       "      <td>79</td>\n",
       "      <td>79</td>\n",
       "      <td>[-3.423892605044714, -3.556787287807366]</td>\n",
       "      <td>[0.5331748599652363, 0.4668251400347637]</td>\n",
       "      <td>[0, 1, 1, 0, 1, 0, 0, 0, 1, 1, 1, 1, 0, 0, 1, ...</td>\n",
       "      <td>0.997137</td>\n",
       "      <td>0.857693</td>\n",
       "    </tr>\n",
       "  </tbody>\n",
       "</table>\n",
       "<p>80 rows × 7 columns</p>\n",
       "</div>"
      ],
      "text/plain": [
       "    Unnamed: 0  Vehicle_label                                   Utilities  \\\n",
       "0            0              0    [-4.727356330843291, -4.733297385284927]   \n",
       "1            1              1   [-4.475110741947691, -4.4877075436058895]   \n",
       "2            2              2    [-4.062563941239126, -4.076308684334343]   \n",
       "3            3              3    [-5.285052426361108, -5.313558046260541]   \n",
       "4            4              4    [-4.887125943393305, -4.918317347253559]   \n",
       "..         ...            ...                                         ...   \n",
       "75          75             75    [-3.010101758108122, -3.098948671023112]   \n",
       "76          76             76  [-2.8716707696602963, -2.9536030937250306]   \n",
       "77          77             77   [-2.4122747126864996, -2.476909640636905]   \n",
       "78          78             78    [-2.891759561979051, -2.980765731273093]   \n",
       "79          79             79    [-3.423892605044714, -3.556787287807366]   \n",
       "\n",
       "                                Probabilities  \\\n",
       "0    [0.5014852592417532, 0.4985147407582467]   \n",
       "1   [0.5031491587724379, 0.49685084122756207]   \n",
       "2   [0.5034361316783916, 0.49656386832160837]   \n",
       "3    [0.5071259224552748, 0.4928740775447251]   \n",
       "4   [0.5077972188134109, 0.49220278118658917]   \n",
       "..                                        ...   \n",
       "75  [0.5221971285565126, 0.47780287144348743]   \n",
       "76     [0.520471630286901, 0.479528369713099]   \n",
       "77   [0.5161531088440005, 0.4838468911559995]   \n",
       "78   [0.5222368640431142, 0.4777631359568858]   \n",
       "79   [0.5331748599652363, 0.4668251400347637]   \n",
       "\n",
       "                                         Routes_taken     Gamma       Eta  \n",
       "0   [1, 0, 1, 0, 0, 1, 1, 0, 1, 0, 0, 1, 0, 1, 1, ...  1.221444  1.031086  \n",
       "1   [1, 0, 0, 1, 0, 0, 1, 0, 1, 1, 1, 0, 1, 0, 1, ...  1.005148  1.026035  \n",
       "2   [1, 0, 1, 1, 0, 1, 0, 0, 1, 0, 1, 0, 0, 1, 0, ...  1.119700  0.967461  \n",
       "3   [1, 0, 0, 0, 1, 0, 1, 1, 0, 0, 1, 0, 1, 1, 0, ...  0.906961  1.110598  \n",
       "4   [1, 0, 0, 0, 0, 1, 1, 1, 1, 0, 0, 0, 0, 1, 0, ...  1.180157  1.043941  \n",
       "..                                                ...       ...       ...  \n",
       "75  [1, 0, 0, 1, 1, 1, 0, 1, 0, 0, 1, 1, 0, 1, 0, ...  1.110890  0.787496  \n",
       "76  [1, 0, 1, 0, 1, 0, 1, 0, 0, 1, 0, 0, 0, 0, 1, ...  1.009792  0.770654  \n",
       "77  [1, 0, 1, 0, 0, 1, 0, 1, 0, 0, 0, 1, 0, 1, 0, ...  0.766593  0.691094  \n",
       "78  [1, 0, 1, 1, 1, 0, 0, 0, 1, 0, 1, 0, 0, 1, 1, ...  1.005447  0.772958  \n",
       "79  [0, 1, 1, 0, 1, 0, 0, 0, 1, 1, 1, 1, 0, 0, 1, ...  0.997137  0.857693  \n",
       "\n",
       "[80 rows x 7 columns]"
      ]
     },
     "execution_count": 48,
     "metadata": {},
     "output_type": "execute_result"
    }
   ],
   "source": [
    "utility"
   ]
  },
  {
   "cell_type": "code",
   "execution_count": 49,
   "id": "4199c160",
   "metadata": {},
   "outputs": [],
   "source": [
    "# utility['Probabilities'] = utility.apply(lambda row: ast.literal_eval(row['Probabilities']), axis=1)\n",
    "# pd.DataFrame(df['Probabilities'].to_list(), columns=range(4))[i].mean()"
   ]
  },
  {
   "cell_type": "code",
   "execution_count": 50,
   "id": "0ea5e59e",
   "metadata": {},
   "outputs": [],
   "source": [
    "plot_eta_prob = [[], [], [], []]\n",
    "\n",
    "utility['Probabilities'] = utility.apply(lambda row: ast.literal_eval(row['Probabilities']), axis=1)\n",
    "# pd.DataFrame(utility['Probabilities'].to_list(), columns=range(4))[i].values\n",
    "\n",
    "for i in range(2):\n",
    "    plot_eta_prob[i]=pd.DataFrame(utility['Probabilities'].to_list(), columns=range(2))[i].values"
   ]
  },
  {
   "cell_type": "code",
   "execution_count": 51,
   "id": "bc9c587f",
   "metadata": {},
   "outputs": [],
   "source": [
    "# pd.DataFrame(utility['Probabilities'].to_list(), columns=range(4))[i].values"
   ]
  },
  {
   "cell_type": "code",
   "execution_count": 52,
   "id": "4a7a3dda",
   "metadata": {},
   "outputs": [],
   "source": [
    "# len(utility.Eta.values), len(plot_eta_prob[1])"
   ]
  },
  {
   "cell_type": "code",
   "execution_count": 53,
   "id": "6f368f59",
   "metadata": {},
   "outputs": [
    {
     "data": {
      "text/plain": [
       "<matplotlib.legend.Legend at 0x15dee76c240>"
      ]
     },
     "execution_count": 53,
     "metadata": {},
     "output_type": "execute_result"
    },
    {
     "data": {
      "image/png": "[encoded data removed]",
      "text/plain": [
       "<Figure size 720x432 with 1 Axes>"
      ]
     },
     "metadata": {
      "needs_background": "light"
     },
     "output_type": "display_data"
    }
   ],
   "source": [
    "fig, ax = plt.subplots(figsize=(10, 6))\n",
    "\n",
    "for i in range(2):\n",
    "    ax.scatter(utility.Eta.values, plot_eta_prob[i], label=str(i), alpha=0.5)\n",
    "    \n",
    "plt.legend()"
   ]
  },
  {
   "cell_type": "code",
   "execution_count": 54,
   "id": "27a52217",
   "metadata": {},
   "outputs": [
    {
     "data": {
      "text/plain": [
       "<matplotlib.legend.Legend at 0x15dee954208>"
      ]
     },
     "execution_count": 54,
     "metadata": {},
     "output_type": "execute_result"
    },
    {
     "data": {
      "image/png": "[encoded data removed]",
      "text/plain": [
       "<Figure size 720x432 with 1 Axes>"
      ]
     },
     "metadata": {
      "needs_background": "light"
     },
     "output_type": "display_data"
    }
   ],
   "source": [
    "plot_gamma_prob = plot_eta_prob\n",
    "\n",
    "fig, ax = plt.subplots(figsize=(10, 6))\n",
    "\n",
    "for i in range(2):\n",
    "    ax.scatter(utility.Gamma.values, plot_gamma_prob[i], label=str(i), alpha=0.5)\n",
    "    \n",
    "plt.legend()"
   ]
  }
 ],
 "metadata": {
  "kernelspec": {
   "display_name": "Python 3",
   "language": "python",
   "name": "python3"
  },
  "language_info": {
   "codemirror_mode": {
    "name": "ipython",
    "version": 3
   },
   "file_extension": ".py",
   "mimetype": "text/x-python",
   "name": "python",
   "nbconvert_exporter": "python",
   "pygments_lexer": "ipython3",
   "version": "3.6.13"
  }
 },
 "nbformat": 4,
 "nbformat_minor": 5
}
