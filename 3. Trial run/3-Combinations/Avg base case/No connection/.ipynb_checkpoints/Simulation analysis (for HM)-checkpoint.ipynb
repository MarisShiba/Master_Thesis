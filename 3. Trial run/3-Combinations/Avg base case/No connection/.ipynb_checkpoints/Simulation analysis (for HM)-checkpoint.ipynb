{
 "cells": [
  {
   "cell_type": "code",
   "execution_count": 22,
   "id": "4dc4dca5",
   "metadata": {},
   "outputs": [],
   "source": [
    "import ast\n",
    "import pandas as pd\n",
    "import matplotlib.pyplot as plt\n",
    "import numpy as np"
   ]
  },
  {
   "cell_type": "code",
   "execution_count": 23,
   "id": "8c2276ae",
   "metadata": {},
   "outputs": [],
   "source": [
    "rounds = 50\n",
    "vehicle_limit = 80\n",
    "all_routes = [[0, 1], [2, 3]]"
   ]
  },
  {
   "cell_type": "code",
   "execution_count": 24,
   "id": "745b48aa",
   "metadata": {},
   "outputs": [],
   "source": [
    "record = pd.read_csv(f'Saved_HM/Simulation_records/Round_{rounds}.csv')\n",
    "utility = pd.read_csv(f'Saved_HM/Utility_data/Round_{rounds}.csv')"
   ]
  },
  {
   "cell_type": "code",
   "execution_count": 25,
   "id": "6ad7a1b5",
   "metadata": {},
   "outputs": [
    {
     "data": {
      "text/html": [
       "<div>\n",
       "<style scoped>\n",
       "    .dataframe tbody tr th:only-of-type {\n",
       "        vertical-align: middle;\n",
       "    }\n",
       "\n",
       "    .dataframe tbody tr th {\n",
       "        vertical-align: top;\n",
       "    }\n",
       "\n",
       "    .dataframe thead th {\n",
       "        text-align: right;\n",
       "    }\n",
       "</style>\n",
       "<table border=\"1\" class=\"dataframe\">\n",
       "  <thead>\n",
       "    <tr style=\"text-align: right;\">\n",
       "      <th></th>\n",
       "      <th>Vehicle_label</th>\n",
       "      <th>Road_order</th>\n",
       "      <th>Total_time</th>\n",
       "      <th>Leading_vehicles</th>\n",
       "      <th>Stopped_time</th>\n",
       "      <th>Stop_while_front</th>\n",
       "      <th>Round_number</th>\n",
       "    </tr>\n",
       "  </thead>\n",
       "  <tbody>\n",
       "    <tr>\n",
       "      <th>0</th>\n",
       "      <td>0</td>\n",
       "      <td>[0, 1]</td>\n",
       "      <td>67.40</td>\n",
       "      <td>[-999, -999]</td>\n",
       "      <td>[0, 0]</td>\n",
       "      <td>[0, 0]</td>\n",
       "      <td>1</td>\n",
       "    </tr>\n",
       "    <tr>\n",
       "      <th>1</th>\n",
       "      <td>1</td>\n",
       "      <td>[0, 1]</td>\n",
       "      <td>70.10</td>\n",
       "      <td>[0, 0]</td>\n",
       "      <td>[0, 0]</td>\n",
       "      <td>[0, 0]</td>\n",
       "      <td>1</td>\n",
       "    </tr>\n",
       "    <tr>\n",
       "      <th>2</th>\n",
       "      <td>2</td>\n",
       "      <td>[2, 3]</td>\n",
       "      <td>67.75</td>\n",
       "      <td>[-999, -999]</td>\n",
       "      <td>[0, 0]</td>\n",
       "      <td>[0, 0]</td>\n",
       "      <td>1</td>\n",
       "    </tr>\n",
       "    <tr>\n",
       "      <th>3</th>\n",
       "      <td>3</td>\n",
       "      <td>[2, 3]</td>\n",
       "      <td>70.85</td>\n",
       "      <td>[2, 2]</td>\n",
       "      <td>[0, 0]</td>\n",
       "      <td>[0, 0]</td>\n",
       "      <td>1</td>\n",
       "    </tr>\n",
       "    <tr>\n",
       "      <th>4</th>\n",
       "      <td>4</td>\n",
       "      <td>[2, 3]</td>\n",
       "      <td>72.75</td>\n",
       "      <td>[3, 3]</td>\n",
       "      <td>[0, 0]</td>\n",
       "      <td>[0, 0]</td>\n",
       "      <td>1</td>\n",
       "    </tr>\n",
       "    <tr>\n",
       "      <th>...</th>\n",
       "      <td>...</td>\n",
       "      <td>...</td>\n",
       "      <td>...</td>\n",
       "      <td>...</td>\n",
       "      <td>...</td>\n",
       "      <td>...</td>\n",
       "      <td>...</td>\n",
       "    </tr>\n",
       "    <tr>\n",
       "      <th>3995</th>\n",
       "      <td>75</td>\n",
       "      <td>[0, 1]</td>\n",
       "      <td>127.50</td>\n",
       "      <td>[74, 74]</td>\n",
       "      <td>[0, 0]</td>\n",
       "      <td>[0, 0]</td>\n",
       "      <td>50</td>\n",
       "    </tr>\n",
       "    <tr>\n",
       "      <th>3996</th>\n",
       "      <td>76</td>\n",
       "      <td>[0, 1]</td>\n",
       "      <td>127.55</td>\n",
       "      <td>[75, 75]</td>\n",
       "      <td>[0, 0]</td>\n",
       "      <td>[0, 0]</td>\n",
       "      <td>50</td>\n",
       "    </tr>\n",
       "    <tr>\n",
       "      <th>3997</th>\n",
       "      <td>77</td>\n",
       "      <td>[0, 1]</td>\n",
       "      <td>127.45</td>\n",
       "      <td>[76, 76]</td>\n",
       "      <td>[0, 0]</td>\n",
       "      <td>[0, 0]</td>\n",
       "      <td>50</td>\n",
       "    </tr>\n",
       "    <tr>\n",
       "      <th>3998</th>\n",
       "      <td>78</td>\n",
       "      <td>[0, 1]</td>\n",
       "      <td>127.45</td>\n",
       "      <td>[77, 77]</td>\n",
       "      <td>[0, 0]</td>\n",
       "      <td>[0, 0]</td>\n",
       "      <td>50</td>\n",
       "    </tr>\n",
       "    <tr>\n",
       "      <th>3999</th>\n",
       "      <td>79</td>\n",
       "      <td>[0, 1]</td>\n",
       "      <td>127.55</td>\n",
       "      <td>[78, 78]</td>\n",
       "      <td>[0, 0]</td>\n",
       "      <td>[0, 0]</td>\n",
       "      <td>50</td>\n",
       "    </tr>\n",
       "  </tbody>\n",
       "</table>\n",
       "<p>4000 rows × 7 columns</p>\n",
       "</div>"
      ],
      "text/plain": [
       "      Vehicle_label Road_order  Total_time Leading_vehicles Stopped_time  \\\n",
       "0                 0     [0, 1]       67.40     [-999, -999]       [0, 0]   \n",
       "1                 1     [0, 1]       70.10           [0, 0]       [0, 0]   \n",
       "2                 2     [2, 3]       67.75     [-999, -999]       [0, 0]   \n",
       "3                 3     [2, 3]       70.85           [2, 2]       [0, 0]   \n",
       "4                 4     [2, 3]       72.75           [3, 3]       [0, 0]   \n",
       "...             ...        ...         ...              ...          ...   \n",
       "3995             75     [0, 1]      127.50         [74, 74]       [0, 0]   \n",
       "3996             76     [0, 1]      127.55         [75, 75]       [0, 0]   \n",
       "3997             77     [0, 1]      127.45         [76, 76]       [0, 0]   \n",
       "3998             78     [0, 1]      127.45         [77, 77]       [0, 0]   \n",
       "3999             79     [0, 1]      127.55         [78, 78]       [0, 0]   \n",
       "\n",
       "     Stop_while_front  Round_number  \n",
       "0              [0, 0]             1  \n",
       "1              [0, 0]             1  \n",
       "2              [0, 0]             1  \n",
       "3              [0, 0]             1  \n",
       "4              [0, 0]             1  \n",
       "...               ...           ...  \n",
       "3995           [0, 0]            50  \n",
       "3996           [0, 0]            50  \n",
       "3997           [0, 0]            50  \n",
       "3998           [0, 0]            50  \n",
       "3999           [0, 0]            50  \n",
       "\n",
       "[4000 rows x 7 columns]"
      ]
     },
     "execution_count": 25,
     "metadata": {},
     "output_type": "execute_result"
    }
   ],
   "source": [
    "record"
   ]
  },
  {
   "cell_type": "code",
   "execution_count": 26,
   "id": "bd4ee211",
   "metadata": {},
   "outputs": [],
   "source": [
    "record['Road_order'] = record.apply(lambda row: ast.literal_eval(row['Road_order']), axis=1)\n",
    "record[\"Road_order_label\"] = record.apply(lambda row: all_routes.index(row.Road_order), axis=1)"
   ]
  },
  {
   "cell_type": "code",
   "execution_count": 27,
   "id": "76168ce1",
   "metadata": {},
   "outputs": [],
   "source": [
    "# time_df = pd.DataFrame(utility['Routes_taken'].to_list(), columns=range(rounds))\n",
    "# print(route_df.shape)\n",
    "# display(route_df.head(10))"
   ]
  },
  {
   "cell_type": "code",
   "execution_count": 28,
   "id": "a8fdbe60",
   "metadata": {},
   "outputs": [],
   "source": [
    "time_df = pd.pivot_table(record, values='Total_time', \n",
    "                         index=['Road_order_label', 'Round_number'], \n",
    "                         aggfunc=np.mean).reset_index(drop=False)\n",
    "# time_df.loc[time_df.Road_order_label==1].sort_values('Round_number').Total_time.values"
   ]
  },
  {
   "cell_type": "code",
   "execution_count": 29,
   "id": "78a5419b",
   "metadata": {},
   "outputs": [
    {
     "data": {
      "text/plain": [
       "<matplotlib.legend.Legend at 0x227fdc88be0>"
      ]
     },
     "execution_count": 29,
     "metadata": {},
     "output_type": "execute_result"
    },
    {
     "data": {
      "image/png": "[encoded data removed]",
      "text/plain": [
       "<Figure size 720x432 with 1 Axes>"
      ]
     },
     "metadata": {
      "needs_background": "light"
     },
     "output_type": "display_data"
    }
   ],
   "source": [
    "# Changes in average time needed to go through each route over time\n",
    "plot_route_time = [[], [], [], []]\n",
    "\n",
    "for i in range(2):\n",
    "    times = time_df.loc[time_df.Road_order_label==i].sort_values('Round_number').Total_time.values\n",
    "    plot_route_time[i]=times\n",
    "        \n",
    "fig, ax = plt.subplots(figsize=(10, 6))\n",
    "\n",
    "for i in range(4):\n",
    "    ax.plot(plot_route_time[i], label=str(i), alpha=0.5)\n",
    "    \n",
    "plt.legend()"
   ]
  },
  {
   "cell_type": "code",
   "execution_count": 30,
   "id": "6ac8e9b3",
   "metadata": {},
   "outputs": [
    {
     "data": {
      "text/plain": [
       "[<matplotlib.lines.Line2D at 0x227fde052e8>]"
      ]
     },
     "execution_count": 30,
     "metadata": {},
     "output_type": "execute_result"
    },
    {
     "data": {
      "image/png": "[encoded data removed]",
      "text/plain": [
       "<Figure size 432x288 with 1 Axes>"
      ]
     },
     "metadata": {
      "needs_background": "light"
     },
     "output_type": "display_data"
    }
   ],
   "source": [
    "time_df2 = pd.pivot_table(record, values='Total_time', index='Round_number', aggfunc=np.sum).reset_index(drop=False)\n",
    "plt.plot(time_df2.Round_number, time_df2.Total_time)"
   ]
  },
  {
   "cell_type": "code",
   "execution_count": 43,
   "id": "0be594c5",
   "metadata": {},
   "outputs": [
    {
     "data": {
      "text/plain": [
       "8166.373999999733"
      ]
     },
     "execution_count": 43,
     "metadata": {},
     "output_type": "execute_result"
    }
   ],
   "source": [
    "time_df2.Total_time.mean()"
   ]
  },
  {
   "cell_type": "code",
   "execution_count": 32,
   "id": "d6335651",
   "metadata": {},
   "outputs": [],
   "source": [
    "# utility['Probabilities'] = utility.apply(lambda row: ast.literal_eval(row['Probabilities']), axis=1)\n",
    "# prob_df = pd.DataFrame(utility['Probabilities'].to_list(), columns=range(4))\n",
    "# print(prob_df.shape)\n",
    "# display(prob_df.head(10))"
   ]
  },
  {
   "cell_type": "code",
   "execution_count": 33,
   "id": "f3cde3f1",
   "metadata": {},
   "outputs": [
    {
     "name": "stdout",
     "output_type": "stream",
     "text": [
      "(80, 50)\n"
     ]
    },
    {
     "data": {
      "text/html": [
       "<div>\n",
       "<style scoped>\n",
       "    .dataframe tbody tr th:only-of-type {\n",
       "        vertical-align: middle;\n",
       "    }\n",
       "\n",
       "    .dataframe tbody tr th {\n",
       "        vertical-align: top;\n",
       "    }\n",
       "\n",
       "    .dataframe thead th {\n",
       "        text-align: right;\n",
       "    }\n",
       "</style>\n",
       "<table border=\"1\" class=\"dataframe\">\n",
       "  <thead>\n",
       "    <tr style=\"text-align: right;\">\n",
       "      <th></th>\n",
       "      <th>0</th>\n",
       "      <th>1</th>\n",
       "      <th>2</th>\n",
       "      <th>3</th>\n",
       "      <th>4</th>\n",
       "      <th>5</th>\n",
       "      <th>6</th>\n",
       "      <th>7</th>\n",
       "      <th>8</th>\n",
       "      <th>9</th>\n",
       "      <th>...</th>\n",
       "      <th>40</th>\n",
       "      <th>41</th>\n",
       "      <th>42</th>\n",
       "      <th>43</th>\n",
       "      <th>44</th>\n",
       "      <th>45</th>\n",
       "      <th>46</th>\n",
       "      <th>47</th>\n",
       "      <th>48</th>\n",
       "      <th>49</th>\n",
       "    </tr>\n",
       "  </thead>\n",
       "  <tbody>\n",
       "    <tr>\n",
       "      <th>0</th>\n",
       "      <td>0</td>\n",
       "      <td>1</td>\n",
       "      <td>0</td>\n",
       "      <td>1</td>\n",
       "      <td>0</td>\n",
       "      <td>1</td>\n",
       "      <td>0</td>\n",
       "      <td>1</td>\n",
       "      <td>0</td>\n",
       "      <td>1</td>\n",
       "      <td>...</td>\n",
       "      <td>0</td>\n",
       "      <td>0</td>\n",
       "      <td>0</td>\n",
       "      <td>0</td>\n",
       "      <td>0</td>\n",
       "      <td>0</td>\n",
       "      <td>0</td>\n",
       "      <td>0</td>\n",
       "      <td>0</td>\n",
       "      <td>0</td>\n",
       "    </tr>\n",
       "    <tr>\n",
       "      <th>1</th>\n",
       "      <td>0</td>\n",
       "      <td>1</td>\n",
       "      <td>0</td>\n",
       "      <td>1</td>\n",
       "      <td>0</td>\n",
       "      <td>1</td>\n",
       "      <td>0</td>\n",
       "      <td>1</td>\n",
       "      <td>0</td>\n",
       "      <td>1</td>\n",
       "      <td>...</td>\n",
       "      <td>0</td>\n",
       "      <td>0</td>\n",
       "      <td>0</td>\n",
       "      <td>0</td>\n",
       "      <td>0</td>\n",
       "      <td>0</td>\n",
       "      <td>0</td>\n",
       "      <td>0</td>\n",
       "      <td>0</td>\n",
       "      <td>0</td>\n",
       "    </tr>\n",
       "    <tr>\n",
       "      <th>2</th>\n",
       "      <td>1</td>\n",
       "      <td>0</td>\n",
       "      <td>0</td>\n",
       "      <td>1</td>\n",
       "      <td>0</td>\n",
       "      <td>1</td>\n",
       "      <td>0</td>\n",
       "      <td>1</td>\n",
       "      <td>0</td>\n",
       "      <td>1</td>\n",
       "      <td>...</td>\n",
       "      <td>0</td>\n",
       "      <td>0</td>\n",
       "      <td>0</td>\n",
       "      <td>0</td>\n",
       "      <td>0</td>\n",
       "      <td>0</td>\n",
       "      <td>0</td>\n",
       "      <td>0</td>\n",
       "      <td>0</td>\n",
       "      <td>0</td>\n",
       "    </tr>\n",
       "    <tr>\n",
       "      <th>3</th>\n",
       "      <td>1</td>\n",
       "      <td>0</td>\n",
       "      <td>0</td>\n",
       "      <td>1</td>\n",
       "      <td>0</td>\n",
       "      <td>1</td>\n",
       "      <td>0</td>\n",
       "      <td>1</td>\n",
       "      <td>0</td>\n",
       "      <td>1</td>\n",
       "      <td>...</td>\n",
       "      <td>0</td>\n",
       "      <td>0</td>\n",
       "      <td>0</td>\n",
       "      <td>0</td>\n",
       "      <td>0</td>\n",
       "      <td>0</td>\n",
       "      <td>0</td>\n",
       "      <td>0</td>\n",
       "      <td>0</td>\n",
       "      <td>0</td>\n",
       "    </tr>\n",
       "    <tr>\n",
       "      <th>4</th>\n",
       "      <td>1</td>\n",
       "      <td>0</td>\n",
       "      <td>0</td>\n",
       "      <td>1</td>\n",
       "      <td>0</td>\n",
       "      <td>1</td>\n",
       "      <td>0</td>\n",
       "      <td>1</td>\n",
       "      <td>0</td>\n",
       "      <td>1</td>\n",
       "      <td>...</td>\n",
       "      <td>0</td>\n",
       "      <td>0</td>\n",
       "      <td>0</td>\n",
       "      <td>0</td>\n",
       "      <td>0</td>\n",
       "      <td>0</td>\n",
       "      <td>0</td>\n",
       "      <td>0</td>\n",
       "      <td>0</td>\n",
       "      <td>0</td>\n",
       "    </tr>\n",
       "    <tr>\n",
       "      <th>5</th>\n",
       "      <td>0</td>\n",
       "      <td>1</td>\n",
       "      <td>0</td>\n",
       "      <td>1</td>\n",
       "      <td>0</td>\n",
       "      <td>1</td>\n",
       "      <td>0</td>\n",
       "      <td>1</td>\n",
       "      <td>0</td>\n",
       "      <td>1</td>\n",
       "      <td>...</td>\n",
       "      <td>0</td>\n",
       "      <td>0</td>\n",
       "      <td>0</td>\n",
       "      <td>0</td>\n",
       "      <td>0</td>\n",
       "      <td>0</td>\n",
       "      <td>0</td>\n",
       "      <td>0</td>\n",
       "      <td>0</td>\n",
       "      <td>0</td>\n",
       "    </tr>\n",
       "    <tr>\n",
       "      <th>6</th>\n",
       "      <td>0</td>\n",
       "      <td>1</td>\n",
       "      <td>0</td>\n",
       "      <td>1</td>\n",
       "      <td>0</td>\n",
       "      <td>1</td>\n",
       "      <td>0</td>\n",
       "      <td>1</td>\n",
       "      <td>0</td>\n",
       "      <td>1</td>\n",
       "      <td>...</td>\n",
       "      <td>0</td>\n",
       "      <td>0</td>\n",
       "      <td>0</td>\n",
       "      <td>0</td>\n",
       "      <td>0</td>\n",
       "      <td>0</td>\n",
       "      <td>0</td>\n",
       "      <td>0</td>\n",
       "      <td>0</td>\n",
       "      <td>0</td>\n",
       "    </tr>\n",
       "    <tr>\n",
       "      <th>7</th>\n",
       "      <td>1</td>\n",
       "      <td>0</td>\n",
       "      <td>0</td>\n",
       "      <td>1</td>\n",
       "      <td>0</td>\n",
       "      <td>1</td>\n",
       "      <td>0</td>\n",
       "      <td>1</td>\n",
       "      <td>0</td>\n",
       "      <td>1</td>\n",
       "      <td>...</td>\n",
       "      <td>0</td>\n",
       "      <td>0</td>\n",
       "      <td>0</td>\n",
       "      <td>0</td>\n",
       "      <td>0</td>\n",
       "      <td>0</td>\n",
       "      <td>0</td>\n",
       "      <td>0</td>\n",
       "      <td>0</td>\n",
       "      <td>0</td>\n",
       "    </tr>\n",
       "    <tr>\n",
       "      <th>8</th>\n",
       "      <td>0</td>\n",
       "      <td>1</td>\n",
       "      <td>0</td>\n",
       "      <td>1</td>\n",
       "      <td>0</td>\n",
       "      <td>0</td>\n",
       "      <td>0</td>\n",
       "      <td>1</td>\n",
       "      <td>1</td>\n",
       "      <td>1</td>\n",
       "      <td>...</td>\n",
       "      <td>0</td>\n",
       "      <td>0</td>\n",
       "      <td>0</td>\n",
       "      <td>0</td>\n",
       "      <td>0</td>\n",
       "      <td>0</td>\n",
       "      <td>0</td>\n",
       "      <td>0</td>\n",
       "      <td>0</td>\n",
       "      <td>0</td>\n",
       "    </tr>\n",
       "    <tr>\n",
       "      <th>9</th>\n",
       "      <td>1</td>\n",
       "      <td>0</td>\n",
       "      <td>0</td>\n",
       "      <td>1</td>\n",
       "      <td>0</td>\n",
       "      <td>1</td>\n",
       "      <td>0</td>\n",
       "      <td>1</td>\n",
       "      <td>0</td>\n",
       "      <td>1</td>\n",
       "      <td>...</td>\n",
       "      <td>0</td>\n",
       "      <td>0</td>\n",
       "      <td>0</td>\n",
       "      <td>0</td>\n",
       "      <td>0</td>\n",
       "      <td>0</td>\n",
       "      <td>0</td>\n",
       "      <td>0</td>\n",
       "      <td>0</td>\n",
       "      <td>0</td>\n",
       "    </tr>\n",
       "  </tbody>\n",
       "</table>\n",
       "<p>10 rows × 50 columns</p>\n",
       "</div>"
      ],
      "text/plain": [
       "   0   1   2   3   4   5   6   7   8   9   ...  40  41  42  43  44  45  46  \\\n",
       "0   0   1   0   1   0   1   0   1   0   1  ...   0   0   0   0   0   0   0   \n",
       "1   0   1   0   1   0   1   0   1   0   1  ...   0   0   0   0   0   0   0   \n",
       "2   1   0   0   1   0   1   0   1   0   1  ...   0   0   0   0   0   0   0   \n",
       "3   1   0   0   1   0   1   0   1   0   1  ...   0   0   0   0   0   0   0   \n",
       "4   1   0   0   1   0   1   0   1   0   1  ...   0   0   0   0   0   0   0   \n",
       "5   0   1   0   1   0   1   0   1   0   1  ...   0   0   0   0   0   0   0   \n",
       "6   0   1   0   1   0   1   0   1   0   1  ...   0   0   0   0   0   0   0   \n",
       "7   1   0   0   1   0   1   0   1   0   1  ...   0   0   0   0   0   0   0   \n",
       "8   0   1   0   1   0   0   0   1   1   1  ...   0   0   0   0   0   0   0   \n",
       "9   1   0   0   1   0   1   0   1   0   1  ...   0   0   0   0   0   0   0   \n",
       "\n",
       "   47  48  49  \n",
       "0   0   0   0  \n",
       "1   0   0   0  \n",
       "2   0   0   0  \n",
       "3   0   0   0  \n",
       "4   0   0   0  \n",
       "5   0   0   0  \n",
       "6   0   0   0  \n",
       "7   0   0   0  \n",
       "8   0   0   0  \n",
       "9   0   0   0  \n",
       "\n",
       "[10 rows x 50 columns]"
      ]
     },
     "metadata": {},
     "output_type": "display_data"
    }
   ],
   "source": [
    "utility['Routes_taken'] = utility.apply(lambda row: ast.literal_eval(row['Routes_taken']), axis=1)\n",
    "route_df = pd.DataFrame(utility['Routes_taken'].to_list(), columns=range(rounds))\n",
    "print(route_df.shape)\n",
    "display(route_df.head(10))"
   ]
  },
  {
   "cell_type": "code",
   "execution_count": 34,
   "id": "61ca2bbb",
   "metadata": {},
   "outputs": [
    {
     "data": {
      "text/plain": [
       "<matplotlib.legend.Legend at 0x227fde7c390>"
      ]
     },
     "execution_count": 34,
     "metadata": {},
     "output_type": "execute_result"
    },
    {
     "data": {
      "image/png": "[encoded data removed]",
      "text/plain": [
       "<Figure size 720x432 with 1 Axes>"
      ]
     },
     "metadata": {
      "needs_background": "light"
     },
     "output_type": "display_data"
    }
   ],
   "source": [
    "# Changes in number of vehicles that took the route over time\n",
    "plot_route_l = [[], [], [], []]\n",
    "\n",
    "for i in range(2):\n",
    "    for j in range(rounds):\n",
    "        plot_route_l[i].append(len(route_df.loc[route_df[j]==i]))\n",
    "        \n",
    "fig, ax = plt.subplots(figsize=(10, 6))\n",
    "\n",
    "for i in range(2):\n",
    "    ax.plot(plot_route_l[i], label=str(i), alpha=0.5)\n",
    "    \n",
    "plt.legend()"
   ]
  },
  {
   "cell_type": "code",
   "execution_count": 35,
   "id": "5d28e882",
   "metadata": {},
   "outputs": [
    {
     "data": {
      "text/plain": [
       "<matplotlib.legend.Legend at 0x227feec8cf8>"
      ]
     },
     "execution_count": 35,
     "metadata": {},
     "output_type": "execute_result"
    },
    {
     "data": {
      "image/png": "[encoded data removed]",
      "text/plain": [
       "<Figure size 720x432 with 1 Axes>"
      ]
     },
     "metadata": {
      "needs_background": "light"
     },
     "output_type": "display_data"
    }
   ],
   "source": [
    "# Changes in vehicles' probabilities of selecting each route over time\n",
    "plot_prob_l = [[], [], [], []]\n",
    "\n",
    "for r in range(1, rounds+1):\n",
    "    df = pd.read_csv(f'Saved_HM/Utility_data/Round_{r}.csv')\n",
    "    df['Probabilities'] = df.apply(lambda row: ast.literal_eval(row['Probabilities']), axis=1)\n",
    "    for i in range(2):\n",
    "        avg_prob = pd.DataFrame(df['Probabilities'].to_list(), columns=range(2))[i].mean()\n",
    "        plot_prob_l[i].append(avg_prob)\n",
    "        \n",
    "        \n",
    "fig, ax = plt.subplots(figsize=(10, 6))\n",
    "\n",
    "for i in range(2):\n",
    "    ax.plot(plot_prob_l[i], label=str(i), alpha=0.5)\n",
    "    \n",
    "plt.legend()"
   ]
  },
  {
   "cell_type": "code",
   "execution_count": 36,
   "id": "8e825d03",
   "metadata": {},
   "outputs": [
    {
     "data": {
      "text/html": [
       "<div>\n",
       "<style scoped>\n",
       "    .dataframe tbody tr th:only-of-type {\n",
       "        vertical-align: middle;\n",
       "    }\n",
       "\n",
       "    .dataframe tbody tr th {\n",
       "        vertical-align: top;\n",
       "    }\n",
       "\n",
       "    .dataframe thead th {\n",
       "        text-align: right;\n",
       "    }\n",
       "</style>\n",
       "<table border=\"1\" class=\"dataframe\">\n",
       "  <thead>\n",
       "    <tr style=\"text-align: right;\">\n",
       "      <th></th>\n",
       "      <th>Vehicle_label</th>\n",
       "      <th>Utilities</th>\n",
       "      <th>Probabilities</th>\n",
       "      <th>Routes_taken</th>\n",
       "      <th>Gamma</th>\n",
       "      <th>Eta</th>\n",
       "    </tr>\n",
       "  </thead>\n",
       "  <tbody>\n",
       "    <tr>\n",
       "      <th>0</th>\n",
       "      <td>0</td>\n",
       "      <td>[-2.9529585905288536, -2.955764524964179]</td>\n",
       "      <td>[0.5007014831485843, 0.4992985168514156]</td>\n",
       "      <td>[0, 1, 0, 1, 0, 1, 0, 1, 0, 1, 0, 0, 0, 0, 0, ...</td>\n",
       "      <td>0.769902</td>\n",
       "      <td>0.844889</td>\n",
       "    </tr>\n",
       "    <tr>\n",
       "      <th>1</th>\n",
       "      <td>1</td>\n",
       "      <td>[-3.6376180751823504, -3.6473053396877995]</td>\n",
       "      <td>[0.5024217971873136, 0.49757820281268644]</td>\n",
       "      <td>[0, 1, 0, 1, 0, 1, 0, 1, 0, 1, 0, 0, 0, 0, 0, ...</td>\n",
       "      <td>0.613225</td>\n",
       "      <td>0.982176</td>\n",
       "    </tr>\n",
       "    <tr>\n",
       "      <th>2</th>\n",
       "      <td>2</td>\n",
       "      <td>[-3.368436062303536, -3.3728396398247678]</td>\n",
       "      <td>[0.5011008926013124, 0.4988991073986876]</td>\n",
       "      <td>[1, 0, 0, 1, 0, 1, 0, 1, 0, 1, 0, 0, 0, 0, 0, ...</td>\n",
       "      <td>1.043895</td>\n",
       "      <td>0.880625</td>\n",
       "    </tr>\n",
       "    <tr>\n",
       "      <th>3</th>\n",
       "      <td>3</td>\n",
       "      <td>[-2.0097335991492455, -2.013369308675194]</td>\n",
       "      <td>[0.5009089263802758, 0.49909107361972416]</td>\n",
       "      <td>[1, 0, 0, 1, 0, 1, 0, 1, 0, 1, 0, 0, 0, 0, 0, ...</td>\n",
       "      <td>1.039173</td>\n",
       "      <td>0.585676</td>\n",
       "    </tr>\n",
       "    <tr>\n",
       "      <th>4</th>\n",
       "      <td>4</td>\n",
       "      <td>[-2.0727927905685966, -2.0790255704815443]</td>\n",
       "      <td>[0.5015581899339191, 0.49844181006608096]</td>\n",
       "      <td>[1, 0, 0, 1, 0, 1, 0, 1, 0, 1, 0, 0, 0, 0, 0, ...</td>\n",
       "      <td>1.081037</td>\n",
       "      <td>0.602946</td>\n",
       "    </tr>\n",
       "    <tr>\n",
       "      <th>...</th>\n",
       "      <td>...</td>\n",
       "      <td>...</td>\n",
       "      <td>...</td>\n",
       "      <td>...</td>\n",
       "      <td>...</td>\n",
       "      <td>...</td>\n",
       "    </tr>\n",
       "    <tr>\n",
       "      <th>75</th>\n",
       "      <td>75</td>\n",
       "      <td>[-3.21723514682471, -3.320739682101679]</td>\n",
       "      <td>[0.5258530572156938, 0.47414694278430625]</td>\n",
       "      <td>[0, 1, 0, 1, 0, 1, 0, 1, 0, 1, 0, 0, 0, 0, 0, ...</td>\n",
       "      <td>1.126536</td>\n",
       "      <td>0.810765</td>\n",
       "    </tr>\n",
       "    <tr>\n",
       "      <th>76</th>\n",
       "      <td>76</td>\n",
       "      <td>[-2.233819892337936, -2.2712660551009445]</td>\n",
       "      <td>[0.5093604469363057, 0.4906395530636943]</td>\n",
       "      <td>[0, 1, 0, 1, 0, 1, 0, 1, 0, 1, 0, 0, 0, 0, 0, ...</td>\n",
       "      <td>1.259441</td>\n",
       "      <td>0.616272</td>\n",
       "    </tr>\n",
       "    <tr>\n",
       "      <th>77</th>\n",
       "      <td>77</td>\n",
       "      <td>[-3.87608553957112, -4.00879262413463]</td>\n",
       "      <td>[0.5331281665901897, 0.46687183340981026]</td>\n",
       "      <td>[1, 0, 0, 1, 0, 1, 0, 0, 1, 1, 0, 0, 0, 0, 0, ...</td>\n",
       "      <td>0.909519</td>\n",
       "      <td>0.912311</td>\n",
       "    </tr>\n",
       "    <tr>\n",
       "      <th>78</th>\n",
       "      <td>78</td>\n",
       "      <td>[-6.699160877087149, -7.157787925081062]</td>\n",
       "      <td>[0.6126884232672939, 0.38731157673270616]</td>\n",
       "      <td>[0, 1, 0, 0, 0, 1, 0, 1, 1, 1, 0, 0, 0, 0, 0, ...</td>\n",
       "      <td>1.140101</td>\n",
       "      <td>1.115104</td>\n",
       "    </tr>\n",
       "    <tr>\n",
       "      <th>79</th>\n",
       "      <td>79</td>\n",
       "      <td>[-3.3982816577267454, -3.5196678772533105]</td>\n",
       "      <td>[0.5303093476390133, 0.4696906523609866]</td>\n",
       "      <td>[1, 0, 0, 1, 0, 1, 0, 1, 0, 1, 0, 0, 0, 0, 0, ...</td>\n",
       "      <td>0.879438</td>\n",
       "      <td>0.852927</td>\n",
       "    </tr>\n",
       "  </tbody>\n",
       "</table>\n",
       "<p>80 rows × 6 columns</p>\n",
       "</div>"
      ],
      "text/plain": [
       "    Vehicle_label                                   Utilities  \\\n",
       "0               0   [-2.9529585905288536, -2.955764524964179]   \n",
       "1               1  [-3.6376180751823504, -3.6473053396877995]   \n",
       "2               2   [-3.368436062303536, -3.3728396398247678]   \n",
       "3               3   [-2.0097335991492455, -2.013369308675194]   \n",
       "4               4  [-2.0727927905685966, -2.0790255704815443]   \n",
       "..            ...                                         ...   \n",
       "75             75     [-3.21723514682471, -3.320739682101679]   \n",
       "76             76   [-2.233819892337936, -2.2712660551009445]   \n",
       "77             77      [-3.87608553957112, -4.00879262413463]   \n",
       "78             78    [-6.699160877087149, -7.157787925081062]   \n",
       "79             79  [-3.3982816577267454, -3.5196678772533105]   \n",
       "\n",
       "                                Probabilities  \\\n",
       "0    [0.5007014831485843, 0.4992985168514156]   \n",
       "1   [0.5024217971873136, 0.49757820281268644]   \n",
       "2    [0.5011008926013124, 0.4988991073986876]   \n",
       "3   [0.5009089263802758, 0.49909107361972416]   \n",
       "4   [0.5015581899339191, 0.49844181006608096]   \n",
       "..                                        ...   \n",
       "75  [0.5258530572156938, 0.47414694278430625]   \n",
       "76   [0.5093604469363057, 0.4906395530636943]   \n",
       "77  [0.5331281665901897, 0.46687183340981026]   \n",
       "78  [0.6126884232672939, 0.38731157673270616]   \n",
       "79   [0.5303093476390133, 0.4696906523609866]   \n",
       "\n",
       "                                         Routes_taken     Gamma       Eta  \n",
       "0   [0, 1, 0, 1, 0, 1, 0, 1, 0, 1, 0, 0, 0, 0, 0, ...  0.769902  0.844889  \n",
       "1   [0, 1, 0, 1, 0, 1, 0, 1, 0, 1, 0, 0, 0, 0, 0, ...  0.613225  0.982176  \n",
       "2   [1, 0, 0, 1, 0, 1, 0, 1, 0, 1, 0, 0, 0, 0, 0, ...  1.043895  0.880625  \n",
       "3   [1, 0, 0, 1, 0, 1, 0, 1, 0, 1, 0, 0, 0, 0, 0, ...  1.039173  0.585676  \n",
       "4   [1, 0, 0, 1, 0, 1, 0, 1, 0, 1, 0, 0, 0, 0, 0, ...  1.081037  0.602946  \n",
       "..                                                ...       ...       ...  \n",
       "75  [0, 1, 0, 1, 0, 1, 0, 1, 0, 1, 0, 0, 0, 0, 0, ...  1.126536  0.810765  \n",
       "76  [0, 1, 0, 1, 0, 1, 0, 1, 0, 1, 0, 0, 0, 0, 0, ...  1.259441  0.616272  \n",
       "77  [1, 0, 0, 1, 0, 1, 0, 0, 1, 1, 0, 0, 0, 0, 0, ...  0.909519  0.912311  \n",
       "78  [0, 1, 0, 0, 0, 1, 0, 1, 1, 1, 0, 0, 0, 0, 0, ...  1.140101  1.115104  \n",
       "79  [1, 0, 0, 1, 0, 1, 0, 1, 0, 1, 0, 0, 0, 0, 0, ...  0.879438  0.852927  \n",
       "\n",
       "[80 rows x 6 columns]"
      ]
     },
     "execution_count": 36,
     "metadata": {},
     "output_type": "execute_result"
    }
   ],
   "source": [
    "utility"
   ]
  },
  {
   "cell_type": "code",
   "execution_count": 37,
   "id": "4199c160",
   "metadata": {},
   "outputs": [],
   "source": [
    "# utility['Probabilities'] = utility.apply(lambda row: ast.literal_eval(row['Probabilities']), axis=1)\n",
    "# pd.DataFrame(df['Probabilities'].to_list(), columns=range(4))[i].mean()"
   ]
  },
  {
   "cell_type": "code",
   "execution_count": 38,
   "id": "0ea5e59e",
   "metadata": {},
   "outputs": [],
   "source": [
    "plot_eta_prob = [[], [], [], []]\n",
    "\n",
    "utility['Probabilities'] = utility.apply(lambda row: ast.literal_eval(row['Probabilities']), axis=1)\n",
    "# pd.DataFrame(utility['Probabilities'].to_list(), columns=range(4))[i].values\n",
    "\n",
    "for i in range(2):\n",
    "    plot_eta_prob[i]=pd.DataFrame(utility['Probabilities'].to_list(), columns=range(2))[i].values"
   ]
  },
  {
   "cell_type": "code",
   "execution_count": 39,
   "id": "bc9c587f",
   "metadata": {},
   "outputs": [],
   "source": [
    "# pd.DataFrame(utility['Probabilities'].to_list(), columns=range(4))[i].values"
   ]
  },
  {
   "cell_type": "code",
   "execution_count": 40,
   "id": "4a7a3dda",
   "metadata": {},
   "outputs": [],
   "source": [
    "# len(utility.Eta.values), len(plot_eta_prob[1])"
   ]
  },
  {
   "cell_type": "code",
   "execution_count": 41,
   "id": "6f368f59",
   "metadata": {},
   "outputs": [
    {
     "data": {
      "text/plain": [
       "<matplotlib.legend.Legend at 0x227fef38be0>"
      ]
     },
     "execution_count": 41,
     "metadata": {},
     "output_type": "execute_result"
    },
    {
     "data": {
      "image/png": "[encoded data removed]",
      "text/plain": [
       "<Figure size 720x432 with 1 Axes>"
      ]
     },
     "metadata": {
      "needs_background": "light"
     },
     "output_type": "display_data"
    }
   ],
   "source": [
    "fig, ax = plt.subplots(figsize=(10, 6))\n",
    "\n",
    "for i in range(2):\n",
    "    ax.scatter(utility.Eta.values, plot_eta_prob[i], label=str(i), alpha=0.5)\n",
    "    \n",
    "plt.legend()"
   ]
  },
  {
   "cell_type": "code",
   "execution_count": 42,
   "id": "27a52217",
   "metadata": {},
   "outputs": [
    {
     "data": {
      "text/plain": [
       "<matplotlib.legend.Legend at 0x227ff0d9d30>"
      ]
     },
     "execution_count": 42,
     "metadata": {},
     "output_type": "execute_result"
    },
    {
     "data": {
      "image/png": "[encoded data removed]",
      "text/plain": [
       "<Figure size 720x432 with 1 Axes>"
      ]
     },
     "metadata": {
      "needs_background": "light"
     },
     "output_type": "display_data"
    }
   ],
   "source": [
    "plot_gamma_prob = plot_eta_prob\n",
    "\n",
    "fig, ax = plt.subplots(figsize=(10, 6))\n",
    "\n",
    "for i in range(2):\n",
    "    ax.scatter(utility.Gamma.values, plot_gamma_prob[i], label=str(i), alpha=0.5)\n",
    "    \n",
    "plt.legend()"
   ]
  }
 ],
 "metadata": {
  "kernelspec": {
   "display_name": "Python 3",
   "language": "python",
   "name": "python3"
  },
  "language_info": {
   "codemirror_mode": {
    "name": "ipython",
    "version": 3
   },
   "file_extension": ".py",
   "mimetype": "text/x-python",
   "name": "python",
   "nbconvert_exporter": "python",
   "pygments_lexer": "ipython3",
   "version": "3.6.13"
  }
 },
 "nbformat": 4,
 "nbformat_minor": 5
}
