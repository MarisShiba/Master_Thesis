{
 "cells": [
  {
   "cell_type": "markdown",
   "id": "976c644a",
   "metadata": {},
   "source": [
    "# Preparation"
   ]
  },
  {
   "cell_type": "code",
   "execution_count": 1,
   "id": "f18bdef3",
   "metadata": {},
   "outputs": [],
   "source": [
    "import math\n",
    "import warnings\n",
    "warnings.filterwarnings(\"ignore\")\n",
    "\n",
    "import numpy as np\n",
    "import pandas as pd\n",
    "from trafficSimulator import *\n",
    "\n",
    "def parallel_line(current_coordinates, distance):\n",
    "    x1, y1 = current_coordinates[0]\n",
    "    x2, y2 = current_coordinates[1]\n",
    "    k = (y1-y2)/(x1-x2)\n",
    "    b = y1 - k*x1\n",
    "    \n",
    "    cross_x = -b/k\n",
    "    hypo = math.sqrt(b**2+cross_x**2)\n",
    "    \n",
    "    if k>0:\n",
    "        new_coord_1 = ((x2+distance*abs(b)/hypo, y2-distance*abs(cross_x)/hypo),\n",
    "                       (x1+distance*abs(b)/hypo, y1-distance*abs(cross_x)/hypo))\n",
    "\n",
    "        new_coord_2 = ((x2-distance*abs(b)/hypo, y2+distance*abs(cross_x)/hypo),\n",
    "                       (x1-distance*abs(b)/hypo, y1+distance*abs(cross_x)/hypo))\n",
    "        \n",
    "    else:\n",
    "        new_coord_1 = ((x2+distance*abs(b)/hypo, y2+distance*abs(cross_x)/hypo),\n",
    "                       (x1+distance*abs(b)/hypo, y1+distance*abs(cross_x)/hypo))\n",
    "    \n",
    "        new_coord_2 = ((x2-distance*abs(b)/hypo, y2-distance*abs(cross_x)/hypo),\n",
    "                       (x1-distance*abs(b)/hypo, y1-distance*abs(cross_x)/hypo))\n",
    "    \n",
    "    return new_coord_1, new_coord_2"
   ]
  },
  {
   "cell_type": "markdown",
   "id": "3bd8efc6",
   "metadata": {},
   "source": [
    "# Simulation setup"
   ]
  },
  {
   "cell_type": "code",
   "execution_count": 13,
   "id": "96848cc9",
   "metadata": {},
   "outputs": [],
   "source": [
    "left, right = -100*math.sqrt(3), 100*math.sqrt(3)\n",
    "bottom, top = -100, 100\n",
    "\n",
    "fast_track_factor, slow_track_factor = 1, 1\n",
    "stop_distance = 50\n",
    "wait_time = 10\n",
    "vehicle_limit = 15\n",
    "\n",
    "record_df = pd.DataFrame(columns=['Vehicle_label', 'Road_order', \n",
    "                                  'Total_time', 'Leading_vehicles',\n",
    "                                  'Stopped_time', 'Gamma', 'Eta'])\n",
    "\n",
    "left_bottom_outbound = ((left+2, 4), (-5, top-2),\n",
    "                        slow_track_factor, stop_distance, wait_time)\n",
    "bottom_right_outbound = ((5, top-2), (right-2, 4),\n",
    "                         fast_track_factor, stop_distance, wait_time)\n",
    "\n",
    "left_top_outbound = ((left+2, -4), (-5, bottom+2),\n",
    "                     fast_track_factor, stop_distance, wait_time)\n",
    "top_right_outbound = ((5, bottom+2), (right-2, -4),\n",
    "                      slow_track_factor, stop_distance, wait_time)\n",
    "\n",
    "bottom_left_inbound = parallel_line(current_coordinates=left_bottom_outbound, \n",
    "                                    distance=2.5)[0]\n",
    "right_bottom_inbound = parallel_line(current_coordinates=bottom_right_outbound, \n",
    "                                     distance=2.5)[1]\n",
    "\n",
    "top_left_inbound = parallel_line(current_coordinates=left_top_outbound, \n",
    "                                 distance=2.5)[0]\n",
    "right_top_inbound = parallel_line(current_coordinates=top_right_outbound, \n",
    "                                  distance=2.5)[1]\n",
    "\n",
    "## For the connections of the topology, we can either represent with concrete lines\n",
    "## or just as a dot (as shown below). Either case, the vehicles will not actually go \n",
    "## pass these routes; they are more for demonstration purposes\n",
    "\n",
    "connection_top_bottom = ((-1.25, bottom+2), (-1.25, top-2))\n",
    "connection_bottom_top = ((1.25, top-2), (1.25, bottom+2))\n",
    "\n",
    "# Or just show a dot:\n",
    "\n",
    "# connection_top_bottom = ((-1.25, -2), (-1.25, 2))\n",
    "# connection_bottom_top = ((1.25, 2), (1.25, -2))"
   ]
  },
  {
   "cell_type": "markdown",
   "id": "d504aaf5",
   "metadata": {},
   "source": [
    "# Create and run simulation"
   ]
  },
  {
   "cell_type": "code",
   "execution_count": 15,
   "id": "7b563e37",
   "metadata": {
    "scrolled": false
   },
   "outputs": [
    {
     "ename": "KeyboardInterrupt",
     "evalue": "",
     "output_type": "error",
     "traceback": [
      "\u001b[1;31m---------------------------------------------------------------------------\u001b[0m",
      "\u001b[1;31mKeyboardInterrupt\u001b[0m                         Traceback (most recent call last)",
      "\u001b[1;32m<ipython-input-15-e478abd40b8f>\u001b[0m in \u001b[0;36m<module>\u001b[1;34m\u001b[0m\n\u001b[0;32m     84\u001b[0m \u001b[0mwin\u001b[0m \u001b[1;33m=\u001b[0m \u001b[0mWindow\u001b[0m\u001b[1;33m(\u001b[0m\u001b[0msim\u001b[0m\u001b[1;33m)\u001b[0m\u001b[1;33m\u001b[0m\u001b[1;33m\u001b[0m\u001b[0m\n\u001b[0;32m     85\u001b[0m \u001b[0mwin\u001b[0m\u001b[1;33m.\u001b[0m\u001b[0mzoom\u001b[0m \u001b[1;33m=\u001b[0m \u001b[1;36m3\u001b[0m\u001b[1;33m\u001b[0m\u001b[1;33m\u001b[0m\u001b[0m\n\u001b[1;32m---> 86\u001b[1;33m \u001b[0mnew_records\u001b[0m \u001b[1;33m=\u001b[0m \u001b[0mwin\u001b[0m\u001b[1;33m.\u001b[0m\u001b[0mrun\u001b[0m\u001b[1;33m(\u001b[0m\u001b[0msteps_per_update\u001b[0m\u001b[1;33m=\u001b[0m\u001b[1;36m5\u001b[0m\u001b[1;33m)\u001b[0m\u001b[1;33m\u001b[0m\u001b[1;33m\u001b[0m\u001b[0m\n\u001b[0m",
      "\u001b[1;32m~\\Desktop\\Study\\Frankfurt School\\Thesis\\Simulation\\Coding\\With vehicle records\\trafficSimulator\\window.py\u001b[0m in \u001b[0;36mrun\u001b[1;34m(self, steps_per_update)\u001b[0m\n\u001b[0;32m     92\u001b[0m         \u001b[1;32mdef\u001b[0m \u001b[0mloop\u001b[0m\u001b[1;33m(\u001b[0m\u001b[0msim\u001b[0m\u001b[1;33m)\u001b[0m\u001b[1;33m:\u001b[0m\u001b[1;33m\u001b[0m\u001b[1;33m\u001b[0m\u001b[0m\n\u001b[0;32m     93\u001b[0m             \u001b[0msim\u001b[0m\u001b[1;33m.\u001b[0m\u001b[0mrun\u001b[0m\u001b[1;33m(\u001b[0m\u001b[0msteps_per_update\u001b[0m\u001b[1;33m)\u001b[0m\u001b[1;33m\u001b[0m\u001b[1;33m\u001b[0m\u001b[0m\n\u001b[1;32m---> 94\u001b[1;33m         \u001b[0mself\u001b[0m\u001b[1;33m.\u001b[0m\u001b[0mloop\u001b[0m\u001b[1;33m(\u001b[0m\u001b[0mloop\u001b[0m\u001b[1;33m)\u001b[0m\u001b[1;33m\u001b[0m\u001b[1;33m\u001b[0m\u001b[0m\n\u001b[0m\u001b[0;32m     95\u001b[0m         \u001b[1;32mreturn\u001b[0m \u001b[0mself\u001b[0m\u001b[1;33m.\u001b[0m\u001b[0msim\u001b[0m\u001b[1;33m.\u001b[0m\u001b[0mrecords\u001b[0m\u001b[1;33m\u001b[0m\u001b[1;33m\u001b[0m\u001b[0m\n\u001b[0;32m     96\u001b[0m \u001b[1;33m\u001b[0m\u001b[0m\n",
      "\u001b[1;32m~\\Desktop\\Study\\Frankfurt School\\Thesis\\Simulation\\Coding\\With vehicle records\\trafficSimulator\\window.py\u001b[0m in \u001b[0;36mloop\u001b[1;34m(self, loop)\u001b[0m\n\u001b[0;32m     53\u001b[0m                 \u001b[0mrunning\u001b[0m \u001b[1;33m=\u001b[0m \u001b[1;32mFalse\u001b[0m\u001b[1;33m\u001b[0m\u001b[1;33m\u001b[0m\u001b[0m\n\u001b[0;32m     54\u001b[0m             \u001b[1;31m# Draw simulation\u001b[0m\u001b[1;33m\u001b[0m\u001b[1;33m\u001b[0m\u001b[1;33m\u001b[0m\u001b[0m\n\u001b[1;32m---> 55\u001b[1;33m             \u001b[0mself\u001b[0m\u001b[1;33m.\u001b[0m\u001b[0mdraw\u001b[0m\u001b[1;33m(\u001b[0m\u001b[1;33m)\u001b[0m\u001b[1;33m\u001b[0m\u001b[1;33m\u001b[0m\u001b[0m\n\u001b[0m\u001b[0;32m     56\u001b[0m \u001b[1;33m\u001b[0m\u001b[0m\n\u001b[0;32m     57\u001b[0m             \u001b[1;31m# Update window\u001b[0m\u001b[1;33m\u001b[0m\u001b[1;33m\u001b[0m\u001b[1;33m\u001b[0m\u001b[0m\n",
      "\u001b[1;32m~\\Desktop\\Study\\Frankfurt School\\Thesis\\Simulation\\Coding\\With vehicle records\\trafficSimulator\\window.py\u001b[0m in \u001b[0;36mdraw\u001b[1;34m(self)\u001b[0m\n\u001b[0;32m    326\u001b[0m         \u001b[1;31m# self.draw_axes()\u001b[0m\u001b[1;33m\u001b[0m\u001b[1;33m\u001b[0m\u001b[1;33m\u001b[0m\u001b[0m\n\u001b[0;32m    327\u001b[0m \u001b[1;33m\u001b[0m\u001b[0m\n\u001b[1;32m--> 328\u001b[1;33m         \u001b[0mself\u001b[0m\u001b[1;33m.\u001b[0m\u001b[0mdraw_roads\u001b[0m\u001b[1;33m(\u001b[0m\u001b[1;33m)\u001b[0m\u001b[1;33m\u001b[0m\u001b[1;33m\u001b[0m\u001b[0m\n\u001b[0m\u001b[0;32m    329\u001b[0m         \u001b[0mself\u001b[0m\u001b[1;33m.\u001b[0m\u001b[0mdraw_vehicles\u001b[0m\u001b[1;33m(\u001b[0m\u001b[1;33m)\u001b[0m\u001b[1;33m\u001b[0m\u001b[1;33m\u001b[0m\u001b[0m\n\u001b[0;32m    330\u001b[0m         \u001b[0mself\u001b[0m\u001b[1;33m.\u001b[0m\u001b[0mdraw_signals\u001b[0m\u001b[1;33m(\u001b[0m\u001b[1;33m)\u001b[0m\u001b[1;33m\u001b[0m\u001b[1;33m\u001b[0m\u001b[0m\n",
      "\u001b[1;32m~\\Desktop\\Study\\Frankfurt School\\Thesis\\Simulation\\Coding\\With vehicle records\\trafficSimulator\\window.py\u001b[0m in \u001b[0;36mdraw_roads\u001b[1;34m(self)\u001b[0m\n\u001b[0;32m    247\u001b[0m                 \u001b[0msin\u001b[0m\u001b[1;33m=\u001b[0m\u001b[0mroad\u001b[0m\u001b[1;33m.\u001b[0m\u001b[0mangle_sin\u001b[0m\u001b[1;33m,\u001b[0m\u001b[1;33m\u001b[0m\u001b[1;33m\u001b[0m\u001b[0m\n\u001b[0;32m    248\u001b[0m                 \u001b[0mcolor\u001b[0m\u001b[1;33m=\u001b[0m\u001b[1;33m(\u001b[0m\u001b[1;36m180\u001b[0m\u001b[1;33m,\u001b[0m \u001b[1;36m180\u001b[0m\u001b[1;33m,\u001b[0m \u001b[1;36m220\u001b[0m\u001b[1;33m)\u001b[0m\u001b[1;33m,\u001b[0m\u001b[1;33m\u001b[0m\u001b[1;33m\u001b[0m\u001b[0m\n\u001b[1;32m--> 249\u001b[1;33m                 \u001b[0mcentered\u001b[0m\u001b[1;33m=\u001b[0m\u001b[1;32mFalse\u001b[0m\u001b[1;33m\u001b[0m\u001b[1;33m\u001b[0m\u001b[0m\n\u001b[0m\u001b[0;32m    250\u001b[0m             )\n\u001b[0;32m    251\u001b[0m             \u001b[1;31m# Draw road lines\u001b[0m\u001b[1;33m\u001b[0m\u001b[1;33m\u001b[0m\u001b[1;33m\u001b[0m\u001b[0m\n",
      "\u001b[1;32m~\\Desktop\\Study\\Frankfurt School\\Thesis\\Simulation\\Coding\\With vehicle records\\trafficSimulator\\window.py\u001b[0m in \u001b[0;36mrotated_box\u001b[1;34m(self, pos, size, angle, cos, sin, centered, color, filled)\u001b[0m\n\u001b[0;32m    173\u001b[0m             )\n\u001b[0;32m    174\u001b[0m \u001b[1;33m\u001b[0m\u001b[0m\n\u001b[1;32m--> 175\u001b[1;33m         \u001b[0mself\u001b[0m\u001b[1;33m.\u001b[0m\u001b[0mpolygon\u001b[0m\u001b[1;33m(\u001b[0m\u001b[0mvertices\u001b[0m\u001b[1;33m,\u001b[0m \u001b[0mcolor\u001b[0m\u001b[1;33m,\u001b[0m \u001b[0mfilled\u001b[0m\u001b[1;33m=\u001b[0m\u001b[0mfilled\u001b[0m\u001b[1;33m)\u001b[0m\u001b[1;33m\u001b[0m\u001b[1;33m\u001b[0m\u001b[0m\n\u001b[0m\u001b[0;32m    176\u001b[0m \u001b[1;33m\u001b[0m\u001b[0m\n\u001b[0;32m    177\u001b[0m     \u001b[1;32mdef\u001b[0m \u001b[0mrotated_rect\u001b[0m\u001b[1;33m(\u001b[0m\u001b[0mself\u001b[0m\u001b[1;33m,\u001b[0m \u001b[0mpos\u001b[0m\u001b[1;33m,\u001b[0m \u001b[0msize\u001b[0m\u001b[1;33m,\u001b[0m \u001b[0mangle\u001b[0m\u001b[1;33m=\u001b[0m\u001b[1;32mNone\u001b[0m\u001b[1;33m,\u001b[0m \u001b[0mcos\u001b[0m\u001b[1;33m=\u001b[0m\u001b[1;32mNone\u001b[0m\u001b[1;33m,\u001b[0m \u001b[0msin\u001b[0m\u001b[1;33m=\u001b[0m\u001b[1;32mNone\u001b[0m\u001b[1;33m,\u001b[0m \u001b[0mcentered\u001b[0m\u001b[1;33m=\u001b[0m\u001b[1;32mTrue\u001b[0m\u001b[1;33m,\u001b[0m \u001b[0mcolor\u001b[0m\u001b[1;33m=\u001b[0m\u001b[1;33m(\u001b[0m\u001b[1;36m0\u001b[0m\u001b[1;33m,\u001b[0m \u001b[1;36m0\u001b[0m\u001b[1;33m,\u001b[0m \u001b[1;36m255\u001b[0m\u001b[1;33m)\u001b[0m\u001b[1;33m)\u001b[0m\u001b[1;33m:\u001b[0m\u001b[1;33m\u001b[0m\u001b[1;33m\u001b[0m\u001b[0m\n",
      "\u001b[1;32m~\\Desktop\\Study\\Frankfurt School\\Thesis\\Simulation\\Coding\\With vehicle records\\trafficSimulator\\window.py\u001b[0m in \u001b[0;36mpolygon\u001b[1;34m(self, vertices, color, filled)\u001b[0m\n\u001b[0;32m    147\u001b[0m \u001b[1;33m\u001b[0m\u001b[0m\n\u001b[0;32m    148\u001b[0m     \u001b[1;32mdef\u001b[0m \u001b[0mpolygon\u001b[0m\u001b[1;33m(\u001b[0m\u001b[0mself\u001b[0m\u001b[1;33m,\u001b[0m \u001b[0mvertices\u001b[0m\u001b[1;33m,\u001b[0m \u001b[0mcolor\u001b[0m\u001b[1;33m,\u001b[0m \u001b[0mfilled\u001b[0m\u001b[1;33m=\u001b[0m\u001b[1;32mTrue\u001b[0m\u001b[1;33m)\u001b[0m\u001b[1;33m:\u001b[0m\u001b[1;33m\u001b[0m\u001b[1;33m\u001b[0m\u001b[0m\n\u001b[1;32m--> 149\u001b[1;33m         \u001b[0mgfxdraw\u001b[0m\u001b[1;33m.\u001b[0m\u001b[0maapolygon\u001b[0m\u001b[1;33m(\u001b[0m\u001b[0mself\u001b[0m\u001b[1;33m.\u001b[0m\u001b[0mscreen\u001b[0m\u001b[1;33m,\u001b[0m \u001b[0mvertices\u001b[0m\u001b[1;33m,\u001b[0m \u001b[0mcolor\u001b[0m\u001b[1;33m)\u001b[0m\u001b[1;33m\u001b[0m\u001b[1;33m\u001b[0m\u001b[0m\n\u001b[0m\u001b[0;32m    150\u001b[0m         \u001b[1;32mif\u001b[0m \u001b[0mfilled\u001b[0m\u001b[1;33m:\u001b[0m\u001b[1;33m\u001b[0m\u001b[1;33m\u001b[0m\u001b[0m\n\u001b[0;32m    151\u001b[0m             \u001b[0mgfxdraw\u001b[0m\u001b[1;33m.\u001b[0m\u001b[0mfilled_polygon\u001b[0m\u001b[1;33m(\u001b[0m\u001b[0mself\u001b[0m\u001b[1;33m.\u001b[0m\u001b[0mscreen\u001b[0m\u001b[1;33m,\u001b[0m \u001b[0mvertices\u001b[0m\u001b[1;33m,\u001b[0m \u001b[0mcolor\u001b[0m\u001b[1;33m)\u001b[0m\u001b[1;33m\u001b[0m\u001b[1;33m\u001b[0m\u001b[0m\n",
      "\u001b[1;31mKeyboardInterrupt\u001b[0m: "
     ]
    }
   ],
   "source": [
    "sim = Simulation({\n",
    "    'all_routes': [[0, 3], [0, 1], [2, 3], [2, 1]], # All possible (and reasonable) routes\n",
    "    'vehicle_limit': vehicle_limit, # Total number of vehicles in simulation\n",
    "    'records': record_df, # Table that will capture the needed vehicle-related info\n",
    "    'vehicle_preferences': dict(zip(range(vehicle_limit), \n",
    "                                    [[0.25, 0.25, 0.25, 0.25]]*vehicle_limit))\n",
    "    # A dictionary that stores the vehicles' labels are keys and their list of probabilities\n",
    "    # of choosing each possible route as values\n",
    "    # For the initial few rounds all vehicles choose all routes with equal weights.\n",
    "    # For more complicated topologies some other algorithms will be needed as all possible\n",
    "    # routes are not as explicit as in here.\n",
    "    })\n",
    "\n",
    "sim.create_roads([\n",
    "    ## Key routes\n",
    "    left_bottom_outbound, # Road #0\n",
    "    bottom_right_outbound, # Road #1\n",
    "    \n",
    "    left_top_outbound, # Road #2\n",
    "    top_right_outbound, # Road #3\n",
    "    \n",
    "    connection_top_bottom, # Road #4\n",
    "    connection_bottom_top, # Road #5\n",
    "    \n",
    "    bottom_left_inbound, # Road #6\n",
    "    right_bottom_inbound, # Road #7\n",
    "    \n",
    "    top_left_inbound, # Road #8\n",
    "    right_top_inbound, # Road #9\n",
    "    \n",
    "    ## Curved corners\n",
    "    # Note: in the simulation, the vehicles will not actually go pass these\n",
    "    # routes; they are more for aesthetic purposes\n",
    "    \n",
    "    # Outbound corners\n",
    "    *curve_road(left_bottom_outbound[1], \n",
    "                (bottom_right_outbound[0][0], bottom_right_outbound[0][1]+0.01), \n",
    "                (0, top), 16), # Outbound bottom corner; Roads #10-#25\n",
    "    \n",
    "    *curve_road(left_top_outbound[1], \n",
    "                (top_right_outbound[0][0], top_right_outbound[0][1]+0.01), \n",
    "                (0, bottom), 16), # Outbound top corner; Roads #26-#41\n",
    "    \n",
    "    *curve_road(left_bottom_outbound[0], \n",
    "                (left_top_outbound[0][0]+0.01, left_top_outbound[0][1]), \n",
    "                (left, 0), 16), # Outbound left corner; Roads #42-#57\n",
    "    \n",
    "    *curve_road(bottom_right_outbound[1], \n",
    "                (top_right_outbound[1][0]+0.01, top_right_outbound[1][1]), \n",
    "                (right, 0), 16), # Outbound right corner; Roads #58-#73\n",
    "    \n",
    "    # Inbound corners\n",
    "    *curve_road(right_bottom_inbound[1], \n",
    "                (bottom_left_inbound[0][0], bottom_left_inbound[0][1]+0.01), \n",
    "                (0, top), 16), # Inbound bottom corner; Roads #74-#89\n",
    "    \n",
    "    *curve_road(right_top_inbound[1], \n",
    "                (top_left_inbound[0][0], top_left_inbound[0][1]+0.01), \n",
    "                (0, bottom), 16), # Inbound top corner; Roads #90-#105\n",
    "    \n",
    "    *curve_road(bottom_left_inbound[1], \n",
    "                (top_left_inbound[1][0]+0.01, top_left_inbound[1][1]), \n",
    "                (left+2.5, 0), 16), # Inbound left corner; Roads #106-#121\n",
    "    \n",
    "    *curve_road(right_bottom_inbound[0], \n",
    "                (right_top_inbound[0][0]+0.01, right_top_inbound[0][1]), \n",
    "                (right-2.5, 0), 16), # Inbound right corner; Roads #122-#137\n",
    "])\n",
    "\n",
    "\n",
    "sim.create_gen({\n",
    "    # Rate of generating new vehicles\n",
    "    'vehicle_rate': 75,\n",
    "    'vehicles': {'v_max': 15, # Desired speed\n",
    "                 's0': 3, # Safe bumper-to-bumper distance\n",
    "                 'T': 1.5, # Time gap\n",
    "                 'b_max': 3, # Deceleartion\n",
    "                 'a_max': 2, # Acceleration\n",
    "                }\n",
    "    })\n",
    "        \n",
    "\n",
    "# Start simulation\n",
    "win = Window(sim)\n",
    "win.zoom = 3\n",
    "new_records = win.run(steps_per_update=5)"
   ]
  },
  {
   "cell_type": "code",
   "execution_count": 3,
   "id": "87d78316",
   "metadata": {},
   "outputs": [
    {
     "data": {
      "text/html": [
       "<div>\n",
       "<style scoped>\n",
       "    .dataframe tbody tr th:only-of-type {\n",
       "        vertical-align: middle;\n",
       "    }\n",
       "\n",
       "    .dataframe tbody tr th {\n",
       "        vertical-align: top;\n",
       "    }\n",
       "\n",
       "    .dataframe thead th {\n",
       "        text-align: right;\n",
       "    }\n",
       "</style>\n",
       "<table border=\"1\" class=\"dataframe\">\n",
       "  <thead>\n",
       "    <tr style=\"text-align: right;\">\n",
       "      <th></th>\n",
       "      <th>Vehicle_label</th>\n",
       "      <th>Road_order</th>\n",
       "      <th>Total_time</th>\n",
       "      <th>Leading_vehicles</th>\n",
       "      <th>Stopped_time</th>\n",
       "      <th>Gamma</th>\n",
       "      <th>Eta</th>\n",
       "    </tr>\n",
       "  </thead>\n",
       "  <tbody>\n",
       "    <tr>\n",
       "      <th>0</th>\n",
       "      <td>0</td>\n",
       "      <td>[0, 1]</td>\n",
       "      <td>25.3</td>\n",
       "      <td>[-999, -999]</td>\n",
       "      <td>[0, 0]</td>\n",
       "      <td>1.42444</td>\n",
       "      <td>1.7956</td>\n",
       "    </tr>\n",
       "    <tr>\n",
       "      <th>1</th>\n",
       "      <td>1</td>\n",
       "      <td>[0, 1]</td>\n",
       "      <td>34.56</td>\n",
       "      <td>[0, 0]</td>\n",
       "      <td>[7.059999999999937, 0]</td>\n",
       "      <td>1.07981</td>\n",
       "      <td>0.947483</td>\n",
       "    </tr>\n",
       "    <tr>\n",
       "      <th>2</th>\n",
       "      <td>2</td>\n",
       "      <td>[2, 3]</td>\n",
       "      <td>25.3</td>\n",
       "      <td>[-999, -999]</td>\n",
       "      <td>[0, 0]</td>\n",
       "      <td>0.995249</td>\n",
       "      <td>0.188274</td>\n",
       "    </tr>\n",
       "    <tr>\n",
       "      <th>3</th>\n",
       "      <td>3</td>\n",
       "      <td>[2, 3]</td>\n",
       "      <td>34.56</td>\n",
       "      <td>[2, 2]</td>\n",
       "      <td>[7.059999999999937, 0]</td>\n",
       "      <td>0.893077</td>\n",
       "      <td>1.41839</td>\n",
       "    </tr>\n",
       "    <tr>\n",
       "      <th>4</th>\n",
       "      <td>4</td>\n",
       "      <td>[0, 1]</td>\n",
       "      <td>42.2</td>\n",
       "      <td>[1, 1]</td>\n",
       "      <td>[7.279999999999933, 0]</td>\n",
       "      <td>0.925524</td>\n",
       "      <td>0.692021</td>\n",
       "    </tr>\n",
       "  </tbody>\n",
       "</table>\n",
       "</div>"
      ],
      "text/plain": [
       "  Vehicle_label Road_order Total_time Leading_vehicles  \\\n",
       "0             0     [0, 1]       25.3     [-999, -999]   \n",
       "1             1     [0, 1]      34.56           [0, 0]   \n",
       "2             2     [2, 3]       25.3     [-999, -999]   \n",
       "3             3     [2, 3]      34.56           [2, 2]   \n",
       "4             4     [0, 1]       42.2           [1, 1]   \n",
       "\n",
       "             Stopped_time     Gamma       Eta  \n",
       "0                  [0, 0]   1.42444    1.7956  \n",
       "1  [7.059999999999937, 0]   1.07981  0.947483  \n",
       "2                  [0, 0]  0.995249  0.188274  \n",
       "3  [7.059999999999937, 0]  0.893077   1.41839  \n",
       "4  [7.279999999999933, 0]  0.925524  0.692021  "
      ]
     },
     "execution_count": 3,
     "metadata": {},
     "output_type": "execute_result"
    }
   ],
   "source": [
    "new_records"
   ]
  },
  {
   "cell_type": "code",
   "execution_count": 4,
   "id": "58470a90",
   "metadata": {},
   "outputs": [],
   "source": [
    "import pandas as pd\n",
    "a = pd.DataFrame(columns=['a', 'b', 'c'])\n",
    "# a.loc[len(a)] = [1,2,1]\n",
    "# a.loc[len(a)] = [3,4,5]\n",
    "# a"
   ]
  },
  {
   "cell_type": "code",
   "execution_count": 5,
   "id": "d4d77fa4",
   "metadata": {},
   "outputs": [
    {
     "data": {
      "text/plain": [
       "[0.25, 0.25, 0.25, 0.25]"
      ]
     },
     "execution_count": 5,
     "metadata": {},
     "output_type": "execute_result"
    }
   ],
   "source": [
    "# record_df = pd.DataFrame(columns=['Vehicle_label', 'Road_order', \n",
    "#                                   'Total_time', 'Leading_vehicles',\n",
    "#                                   'Stopped_time', 'Gamma', \n",
    "#                                   'Eta', 'Path_probabilities'])\n",
    "\n",
    "# record_df['Path_probabilities'] = [[0.25, 0.25, 0.25, 0.25]]*10\n",
    "# record_df\n",
    "\n",
    "dict(zip(range(10), [[0.25, 0.25, 0.25, 0.25]]*10))[0]"
   ]
  },
  {
   "cell_type": "code",
   "execution_count": 6,
   "id": "74ac98cd",
   "metadata": {},
   "outputs": [],
   "source": [
    "# a.at[len(a)-1, 'a'] = 3\n",
    "# a"
   ]
  },
  {
   "cell_type": "code",
   "execution_count": 7,
   "id": "53ea3ccf",
   "metadata": {},
   "outputs": [],
   "source": [
    "# a.iloc[0, 2] = 3\n",
    "# a"
   ]
  },
  {
   "cell_type": "code",
   "execution_count": 8,
   "id": "c8a502f1",
   "metadata": {},
   "outputs": [],
   "source": [
    "# m = [1, 3, 4]\n",
    "# n = [4,2,1]\n",
    "# p = [5,3,6]"
   ]
  },
  {
   "cell_type": "code",
   "execution_count": 9,
   "id": "c376d428",
   "metadata": {},
   "outputs": [
    {
     "data": {
      "text/plain": [
       "1.0757410046989448"
      ]
     },
     "execution_count": 9,
     "metadata": {},
     "output_type": "execute_result"
    }
   ],
   "source": [
    "import numpy as np\n",
    "np.random.normal(1, 0.5, 1)[0]"
   ]
  },
  {
   "cell_type": "code",
   "execution_count": 10,
   "id": "16be5f3d",
   "metadata": {},
   "outputs": [],
   "source": [
    "# a = list(range(10))\n",
    "# np.random.shuffle(a)\n",
    "# a"
   ]
  },
  {
   "cell_type": "code",
   "execution_count": 11,
   "id": "f0cffb1a",
   "metadata": {},
   "outputs": [],
   "source": [
    "# # np.random.randint(0, 1)\n",
    "# np.random.choice(3, size=1, p=[0.1, 0.3, 0.6])[0]"
   ]
  },
  {
   "cell_type": "code",
   "execution_count": null,
   "id": "8c3e61d1",
   "metadata": {},
   "outputs": [],
   "source": []
  },
  {
   "cell_type": "code",
   "execution_count": null,
   "id": "5d71686e",
   "metadata": {},
   "outputs": [],
   "source": []
  }
 ],
 "metadata": {
  "kernelspec": {
   "display_name": "Python 3",
   "language": "python",
   "name": "python3"
  },
  "language_info": {
   "codemirror_mode": {
    "name": "ipython",
    "version": 3
   },
   "file_extension": ".py",
   "mimetype": "text/x-python",
   "name": "python",
   "nbconvert_exporter": "python",
   "pygments_lexer": "ipython3",
   "version": "3.6.13"
  }
 },
 "nbformat": 4,
 "nbformat_minor": 5
}
