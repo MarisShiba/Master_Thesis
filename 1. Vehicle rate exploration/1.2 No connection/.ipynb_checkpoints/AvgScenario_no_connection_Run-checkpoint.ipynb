{
 "cells": [
  {
   "cell_type": "markdown",
   "id": "976c644a",
   "metadata": {
    "id": "976c644a"
   },
   "source": [
    "# Preparation"
   ]
  },
  {
   "cell_type": "code",
   "execution_count": null,
   "id": "f2657af4",
   "metadata": {
    "executionInfo": {
     "elapsed": 4787,
     "status": "ok",
     "timestamp": 1652288743231,
     "user": {
      "displayName": "梁倩菁",
      "userId": "17451046531148876201"
     },
     "user_tz": -120
    },
    "id": "f2657af4"
   },
   "outputs": [],
   "source": [
    "import math\n",
    "import os\n",
    "import sys\n",
    "import warnings\n",
    "import numpy as np\n",
    "import pandas as pd\n",
    "import matplotlib.pyplot as plt\n",
    "\n",
    "warnings.filterwarnings(\"ignore\")\n",
    "sys.path.insert(0,'../..') # The simulator package and package needed for analysis \n",
    "                           # (which are imported below) are in a parent folder\n",
    "\n",
    "# Modified package from https://github.com/BilHim/trafficSimulator\n",
    "from trafficSimulator import *\n",
    "# Functions needed for simulation transition calculation\n",
    "from SimulationAnalysis import utility_summary, compute_utility, update_utility_df"
   ]
  },
  {
   "cell_type": "markdown",
   "id": "3bd8efc6",
   "metadata": {
    "id": "3bd8efc6"
   },
   "source": [
    "## Simulation setup"
   ]
  },
  {
   "cell_type": "markdown",
   "id": "3fd8e819",
   "metadata": {
    "id": "3fd8e819"
   },
   "source": [
    "### Simulation params setup"
   ]
  },
  {
   "cell_type": "code",
   "execution_count": null,
   "id": "e4660741",
   "metadata": {
    "executionInfo": {
     "elapsed": 17,
     "status": "ok",
     "timestamp": 1652288743232,
     "user": {
      "displayName": "梁倩菁",
      "userId": "17451046531148876201"
     },
     "user_tz": -120
    },
    "id": "e4660741"
   },
   "outputs": [],
   "source": [
    "# Specify the labels of the road segments in each route\n",
    "all_routes = [[0, 1], [2, 3]]\n",
    "\n",
    "v_max = 9\n",
    "s0 = 2\n",
    "T = 1\n",
    "b_max = 2\n",
    "a_max = 1\n",
    "\n",
    "# Levels of speed limit for fast and slow roads\n",
    "# expressed as a proportion of the v_max set above\n",
    "fast_track_factor, slow_track_factor = 1, 0.33 \n",
    "\n",
    "# Length of the stop zone\n",
    "stop_distance = 25 \n",
    "\n",
    "# Waiting time for fast and slow roads (here set as the same)\n",
    "fast_wait_time = 4\n",
    "slow_wait_time = 4\n",
    "\n",
    "# Total number of vehicles\n",
    "vehicle_limit = 80\n",
    "\n",
    "# Store vehicle specs to be input in the simulation package\n",
    "vehicle_specs = {'v_max': v_max, # Desired speed\n",
    "                 's0': s0, # Safe bumper-to-bumper distance\n",
    "                 'T': T, # Time gap\n",
    "                 'b_max': b_max, # Deceleartion\n",
    "                 'a_max': a_max, # Acceleration\n",
    "                 'l' : 3\n",
    "                }\n",
    "\n",
    "# Empty dataframe to store the simulation data\n",
    "df = pd.DataFrame(columns=['Vehicle_label', 'Road_order', \n",
    "                           'Total_time', 'Leading_vehicles',\n",
    "                           'Stopped_time', 'Stop_while_front'])\n",
    "\n",
    "# Initialize the probabilities for choosing each route for the 1st round;\n",
    "# each route has an equal chance of being selected\n",
    "vehicle_preferences = dict(zip(range(vehicle_limit), \n",
    "                               [[0.5, 0.5]]*vehicle_limit))"
   ]
  },
  {
   "cell_type": "markdown",
   "id": "6cb11b5b",
   "metadata": {
    "id": "6cb11b5b"
   },
   "source": [
    "### Topology setup"
   ]
  },
  {
   "cell_type": "code",
   "execution_count": null,
   "id": "96848cc9",
   "metadata": {
    "executionInfo": {
     "elapsed": 14,
     "status": "ok",
     "timestamp": 1652288743234,
     "user": {
      "displayName": "梁倩菁",
      "userId": "17451046531148876201"
     },
     "user_tz": -120
    },
    "id": "96848cc9"
   },
   "outputs": [],
   "source": [
    "# Coordinates of the four corners of the traffic network; all four corners\n",
    "# lie on either the x or the y axis\n",
    "left, right = -75*math.sqrt(3), 75*math.sqrt(3)\n",
    "bottom, top = -75, 75\n",
    "\n",
    "# Building the road lines with corresponding parameters\n",
    "left_bottom_outbound = ((left+2, 4), (-5, top-2),\n",
    "                        slow_track_factor, stop_distance, slow_wait_time)\n",
    "bottom_right_outbound = ((5, top-2), (right-2, 4),\n",
    "                         fast_track_factor, stop_distance, fast_wait_time)\n",
    "\n",
    "left_top_outbound = ((left+2, -4), (-5, bottom+2),\n",
    "                     fast_track_factor, stop_distance, fast_wait_time)\n",
    "top_right_outbound = ((5, bottom+2), (right-2, -4),\n",
    "                      slow_track_factor, stop_distance, slow_wait_time)"
   ]
  },
  {
   "cell_type": "markdown",
   "id": "9ac325e7",
   "metadata": {
    "id": "9ac325e7"
   },
   "source": [
    "### Utility params setup"
   ]
  },
  {
   "cell_type": "code",
   "execution_count": null,
   "id": "83e83c48",
   "metadata": {
    "executionInfo": {
     "elapsed": 13,
     "status": "ok",
     "timestamp": 1652288743235,
     "user": {
      "displayName": "梁倩菁",
      "userId": "17451046531148876201"
     },
     "user_tz": -120
    },
    "id": "83e83c48"
   },
   "outputs": [],
   "source": [
    "# Exploration factor in UCB alogorithm\n",
    "delta = 0.25\n",
    "\n",
    "# Penalty factor\n",
    "alpha = 0"
   ]
  },
  {
   "cell_type": "markdown",
   "id": "d8abc1c6",
   "metadata": {
    "id": "d8abc1c6"
   },
   "source": [
    "## Function needed for running simulation"
   ]
  },
  {
   "cell_type": "code",
   "execution_count": null,
   "id": "7b563e37",
   "metadata": {
    "executionInfo": {
     "elapsed": 499,
     "status": "ok",
     "timestamp": 1652288743723,
     "user": {
      "displayName": "梁倩菁",
      "userId": "17451046531148876201"
     },
     "user_tz": -120
    },
    "id": "7b563e37"
   },
   "outputs": [],
   "source": [
    " def run_simulation(round_number, \n",
    "                    all_routes, \n",
    "                    vehicle_limit, \n",
    "                    df, \n",
    "                    vehicle_preferences,\n",
    "                    vehicle_rate, \n",
    "                    vehicle_specs):\n",
    "    \"\"\"\n",
    "    Executes the simulation and returns certain data of the simulation.\n",
    "    \n",
    "    Input:\n",
    "        round_number (integer): the number of the current simulation\n",
    "        all_routes (list): all possible paths that a vehicle can take\n",
    "        vehicle_limit (integer): the total number of vehicles in the simulation\n",
    "        df (pandas DataFrame): a dataframe for storing data from the simulation\n",
    "        vehicle_preferences (dict): store vehicle label as keys and their probabilities\n",
    "                                    of choosing each of the possible routes as values\n",
    "        vehicle_rate (integer): frequency of generating new vehicles\n",
    "        vehicle_specs (dict): parameters related to the vehicles\n",
    "    \"\"\"\n",
    "    global left_bottom_outbound\n",
    "    global bottom_right_outbound\n",
    "    global left_top_outbound\n",
    "    global top_right_outbound\n",
    "    \n",
    "    records = df.copy()\n",
    "    sim = Simulation({\n",
    "        'round_number': round_number,\n",
    "        'all_routes': all_routes, # All possible (and reasonable) routes\n",
    "        'vehicle_limit': vehicle_limit, # Total number of vehicles in simulation\n",
    "        'records': records, # Table that will capture the needed vehicle-related info\n",
    "        'vehicle_preferences': vehicle_preferences\n",
    "        })\n",
    "\n",
    "    sim.create_roads([\n",
    "        ## Key routes\n",
    "        left_bottom_outbound, # Road #0\n",
    "        bottom_right_outbound, # Road #1\n",
    "\n",
    "        left_top_outbound, # Road #2\n",
    "        top_right_outbound, # Road #3\n",
    "\n",
    "        ## Curved corners\n",
    "        # Note: in the simulation, the vehicles will not actually go through these\n",
    "        # routes; they are more for aesthetic purposes\n",
    "        *curve_road(left_bottom_outbound[1], \n",
    "                    (bottom_right_outbound[0][0], bottom_right_outbound[0][1]+0.01), \n",
    "                    (0, top), 16), # Outbound bottom corner\n",
    "\n",
    "        *curve_road(left_top_outbound[1], \n",
    "                    (top_right_outbound[0][0], top_right_outbound[0][1]+0.01), \n",
    "                    (0, bottom), 16), # Outbound top corner\n",
    "\n",
    "        *curve_road(left_bottom_outbound[0], \n",
    "                    (left_top_outbound[0][0]+0.01, left_top_outbound[0][1]), \n",
    "                    (left, 0), 16), # Outbound left corner\n",
    "\n",
    "        *curve_road(bottom_right_outbound[1], \n",
    "                    (top_right_outbound[1][0]+0.01, top_right_outbound[1][1]), \n",
    "                    (right, 0), 16), # Outbound right corner\n",
    "    ])\n",
    "\n",
    "\n",
    "    sim.create_gen({\n",
    "        'vehicle_rate': vehicle_rate, # Rate of generating new vehicles\n",
    "        'vehicle_limit': vehicle_limit, # Total number of vehicles in simulation\n",
    "        'vehicles': vehicle_specs\n",
    "        })\n",
    "\n",
    "    # Start simulation\n",
    "    win = Window(sim)\n",
    "    win.zoom = 4\n",
    "    new_records = win.run(steps_per_update=5)\n",
    "    \n",
    "    return new_records"
   ]
  },
  {
   "cell_type": "code",
   "execution_count": null,
   "id": "60259394",
   "metadata": {
    "executionInfo": {
     "elapsed": 6,
     "status": "ok",
     "timestamp": 1652288743724,
     "user": {
      "displayName": "梁倩菁",
      "userId": "17451046531148876201"
     },
     "user_tz": -120
    },
    "id": "60259394"
   },
   "outputs": [],
   "source": [
    "def simulation_with_changing_rate(vehicle_rates, \n",
    "                                  rounds,\n",
    "                                  all_routes, \n",
    "                                  vehicle_limit, \n",
    "                                  df, \n",
    "                                  vehicle_preferences,\n",
    "                                  vehicle_specs):\n",
    "    \"\"\"\n",
    "    This function performs simulations for different given vehicle rates for a specified\n",
    "    number of rounds and specified number of vehicles. After each round, the relevant data\n",
    "    is saved.\n",
    "    \n",
    "    Parameters:\n",
    "        vehicle_rates (list or array): a list of vehicle rates to be investigated\n",
    "        rounds (integer): number of rounds to be run for each vehicle rate\n",
    "        all_routes (list): all possible paths that a vehicle can take\n",
    "        vehicle_limit (integer): the total number of vehicles in the simulation\n",
    "        df (pandas DataFrame): a dataframe for storing data from the simulation\n",
    "        vehicle_preferences (dict): store vehicle label as keys and their probabilities\n",
    "                                    of choosing each of the possible routes as values\n",
    "        vehicle_rate (integer): frequency of generating new vehicles\n",
    "        vehicle_specs (dict): parameters related to the vehicles\n",
    "    \"\"\"\n",
    "    for r in range(len(vehicle_rates)):\n",
    "        rate = vehicle_rates[r]\n",
    "        \n",
    "        # Run the 1st round\n",
    "        record_df = run_simulation(1, all_routes, vehicle_limit, df, vehicle_preferences,\n",
    "                                     rate, vehicle_specs)\n",
    "\n",
    "        # Add meta data of the 1st round\n",
    "        record_df['Round_number'] = 1\n",
    "        record_df['vehicle_rate'] = rate\n",
    "\n",
    "        # Since the parameters values for eta and gamma have already been sampled because the script in\n",
    "        # \"1.1 Zero alpha\" has been run first, they will be reused for here by reading into the saved data files\n",
    "        utility_df = pd.read_csv(f\"../1.1 Zero alpha/Saved_data/Utility_data/8/Round_1.csv\")\n",
    "\n",
    "        utility_df['Vehicle_label'] = list(range(len(record_df.Vehicle_label.unique())))\n",
    "        utility_df['Routes_taken'] = [[]] * len(utility_df)\n",
    "        utility_df['Utilities'] = [[0] * len(all_routes)] * len(utility_df)\n",
    "        utility_df['Probabilities'] = [[0] * len(all_routes)] * len(utility_df)  \n",
    "\n",
    "        # Summarize the collected data from the simulation and update the utility dataframe with the computed\n",
    "        # utility values and probabilities\n",
    "        utility_df = utility_df.sort_values('Vehicle_label', ascending=True).reset_index(drop=True)            \n",
    "        utility_tmp = utility_summary(all_routes, record_df)\n",
    "        utility_df = update_utility_df(all_routes,\n",
    "                                       delta, \n",
    "                                       alpha, \n",
    "                                       record_df=record_df,\n",
    "                                       df=utility_df, \n",
    "                                       utility_tmp=utility_tmp)\n",
    "\n",
    "        # Save the computed utility data\n",
    "        if not os.path.exists(f'Saved_data/Utility_data/{rate}'):\n",
    "            os.makedirs(f'Saved_data/Utility_data/{rate}')\n",
    "        utility_df.to_csv(f\"Saved_data/Utility_data/{rate}/Round_1.csv\", index=False)\n",
    "\n",
    "\n",
    "        # Updated probabilities for the 2nd round:\n",
    "        vehicle_preferences = dict(zip(range(vehicle_limit), utility_df.Probabilities.to_list()))\n",
    "\n",
    "        # Finish the remaining rounds by repeating the process above\n",
    "        for s in range(2, rounds+1):\n",
    "            record_tmp = run_simulation(s, \n",
    "                                        all_routes, \n",
    "                                        vehicle_limit, \n",
    "                                        df, \n",
    "                                        vehicle_preferences,\n",
    "                                        rate, \n",
    "                                        vehicle_specs)\n",
    "            record_tmp['Round_number'] = s\n",
    "            record_tmp['vehicle_rate'] = rate\n",
    "\n",
    "            record_df = pd.concat([record_df, record_tmp], ignore_index=True)\n",
    "\n",
    "            utility_tmp = utility_summary(all_routes, record_df)\n",
    "            utility_df = update_utility_df(all_routes,\n",
    "                                           delta, \n",
    "                                           alpha, \n",
    "                                           record_df=record_df,\n",
    "                                           df=utility_df, \n",
    "                                           utility_tmp=utility_tmp,\n",
    "                                           round_number=s)\n",
    "\n",
    "            vehicle_preferences = dict(zip(range(vehicle_limit), \n",
    "                                           utility_df.Probabilities.to_list()))\n",
    "            utility_df.to_csv(f\"Saved_data/Utility_data/{rate}/Round_{s}.csv\", index=False)\n",
    "                                           \n",
    "\n",
    "        # Export all the simulation data after finishing simulations for each vehicle rate\n",
    "        record_df.to_csv(f\"Saved_data/Simulation_records/VehicleRate_{rate}_Round_{s}.csv\", index=False)"
   ]
  },
  {
   "cell_type": "markdown",
   "id": "e55deb74-8317-49c4-b71a-56a68f062d1e",
   "metadata": {
    "id": "d504aaf5"
   },
   "source": [
    "# Simulation runs"
   ]
  },
  {
   "cell_type": "code",
   "execution_count": null,
   "id": "f46757d1",
   "metadata": {
    "colab": {
     "base_uri": "https://localhost:8080/"
    },
    "executionInfo": {
     "elapsed": 15847179,
     "status": "ok",
     "timestamp": 1652304590898,
     "user": {
      "displayName": "梁倩菁",
      "userId": "17451046531148876201"
     },
     "user_tz": -120
    },
    "id": "f46757d1",
    "outputId": "f5a0520c-8b7a-4576-f8d2-abfb79b95b83"
   },
   "outputs": [],
   "source": [
    "simulation_with_changing_rate(vehicle_rates=np.append(np.arange(2,66,2), [1000]), \n",
    "                              rounds=50,\n",
    "                              all_routes=all_routes, \n",
    "                              vehicle_limit=vehicle_limit, \n",
    "                              df=df, \n",
    "                              vehicle_preferences=vehicle_preferences,\n",
    "                              vehicle_specs=vehicle_specs)"
   ]
  }
 ],
 "metadata": {
  "colab": {
   "collapsed_sections": [],
   "name": "Avg_NoConnection_Run 20-24.ipynb",
   "provenance": []
  },
  "kernelspec": {
   "display_name": "Python 3",
   "language": "python",
   "name": "python3"
  },
  "language_info": {
   "codemirror_mode": {
    "name": "ipython",
    "version": 3
   },
   "file_extension": ".py",
   "mimetype": "text/x-python",
   "name": "python",
   "nbconvert_exporter": "python",
   "pygments_lexer": "ipython3",
   "version": "3.6.13"
  }
 },
 "nbformat": 4,
 "nbformat_minor": 5
}
